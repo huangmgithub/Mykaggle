{
 "cells": [
  {
   "cell_type": "code",
   "execution_count": 1,
   "metadata": {
    "_cell_guid": "b1076dfc-b9ad-4769-8c92-a6c4dae69d19",
    "_uuid": "8f2839f25d086af736a60e9eeb907d3b93b6e0e5",
    "execution": {
     "iopub.execute_input": "2022-05-16T13:40:23.326482Z",
     "iopub.status.busy": "2022-05-16T13:40:23.325970Z",
     "iopub.status.idle": "2022-05-16T13:40:23.354755Z",
     "shell.execute_reply": "2022-05-16T13:40:23.353930Z"
    },
    "papermill": {
     "duration": 0.043534,
     "end_time": "2022-05-16T13:40:23.357995",
     "exception": false,
     "start_time": "2022-05-16T13:40:23.314461",
     "status": "completed"
    },
    "tags": []
   },
   "outputs": [
    {
     "name": "stdout",
     "output_type": "stream",
     "text": [
      "/kaggle/input/ccf-data/ccf_data/test_1.csv\n",
      "/kaggle/input/ccf-data/ccf_data/train_all.csv\n",
      "/kaggle/input/ccf-data/ccf_data/train_2.csv\n",
      "/kaggle/input/ccf-data/ccf_data/test_2.csv\n",
      "/kaggle/input/ccf-data/ccf_data/w2v/1_total_fee.csv\n",
      "/kaggle/input/ccf-data/ccf_data/w2v/4_total_fee.csv\n",
      "/kaggle/input/ccf-data/ccf_data/w2v/2_total_fee.csv\n",
      "/kaggle/input/ccf-data/ccf_data/w2v/3_total_fee.csv\n"
     ]
    }
   ],
   "source": [
    "# This Python 3 environment comes with many helpful analytics libraries installed\n",
    "# It is defined by the kaggle/python Docker image: https://github.com/kaggle/docker-python\n",
    "# For example, here's several helpful packages to load\n",
    "\n",
    "import numpy as np # linear algebra\n",
    "import pandas as pd # data processing, CSV file I/O (e.g. pd.read_csv)\n",
    "\n",
    "# Input data files are available in the read-only \"../input/\" directory\n",
    "# For example, running this (by clicking run or pressing Shift+Enter) will list all files under the input directory\n",
    "\n",
    "import os\n",
    "for dirname, _, filenames in os.walk('/kaggle/input'):\n",
    "    for filename in filenames:\n",
    "        print(os.path.join(dirname, filename))\n",
    "\n",
    "# You can write up to 20GB to the current directory (/kaggle/working/) that gets preserved as output when you create a version using \"Save & Run All\" \n",
    "# You can also write temporary files to /kaggle/temp/, but they won't be saved outside of the current session"
   ]
  },
  {
   "cell_type": "code",
   "execution_count": 2,
   "metadata": {
    "execution": {
     "iopub.execute_input": "2022-05-16T13:40:23.379438Z",
     "iopub.status.busy": "2022-05-16T13:40:23.379167Z",
     "iopub.status.idle": "2022-05-16T13:41:15.568348Z",
     "shell.execute_reply": "2022-05-16T13:41:15.567330Z"
    },
    "papermill": {
     "duration": 52.202373,
     "end_time": "2022-05-16T13:41:15.570864",
     "exception": false,
     "start_time": "2022-05-16T13:40:23.368491",
     "status": "completed"
    },
    "tags": []
   },
   "outputs": [
    {
     "data": {
      "text/html": [
       "<style type='text/css'>\n",
       ".datatable table.frame { margin-bottom: 0; }\n",
       ".datatable table.frame thead { border-bottom: none; }\n",
       ".datatable table.frame tr.coltypes td {  color: #FFFFFF;  line-height: 6px;  padding: 0 0.5em;}\n",
       ".datatable .bool    { background: #DDDD99; }\n",
       ".datatable .object  { background: #565656; }\n",
       ".datatable .int     { background: #5D9E5D; }\n",
       ".datatable .float   { background: #4040CC; }\n",
       ".datatable .str     { background: #CC4040; }\n",
       ".datatable .time    { background: #40CC40; }\n",
       ".datatable .row_index {  background: var(--jp-border-color3);  border-right: 1px solid var(--jp-border-color0);  color: var(--jp-ui-font-color3);  font-size: 9px;}\n",
       ".datatable .frame tbody td { text-align: left; }\n",
       ".datatable .frame tr.coltypes .row_index {  background: var(--jp-border-color0);}\n",
       ".datatable th:nth-child(2) { padding-left: 12px; }\n",
       ".datatable .hellipsis {  color: var(--jp-cell-editor-border-color);}\n",
       ".datatable .vellipsis {  background: var(--jp-layout-color0);  color: var(--jp-cell-editor-border-color);}\n",
       ".datatable .na {  color: var(--jp-cell-editor-border-color);  font-size: 80%;}\n",
       ".datatable .sp {  opacity: 0.25;}\n",
       ".datatable .footer { font-size: 9px; }\n",
       ".datatable .frame_dimensions {  background: var(--jp-border-color3);  border-top: 1px solid var(--jp-border-color0);  color: var(--jp-ui-font-color3);  display: inline-block;  opacity: 0.6;  padding: 1px 10px 1px 5px;}\n",
       "</style>\n"
      ],
      "text/plain": [
       "<IPython.core.display.HTML object>"
      ]
     },
     "metadata": {},
     "output_type": "display_data"
    },
    {
     "name": "stderr",
     "output_type": "stream",
     "text": [
      "/opt/conda/lib/python3.7/site-packages/IPython/core/interactiveshell.py:3524: DtypeWarning: Columns (4,5) have mixed types.Specify dtype option on import or set low_memory=False.\n",
      "  exec(code_obj, self.user_global_ns, self.user_ns)\n",
      "/opt/conda/lib/python3.7/site-packages/IPython/core/interactiveshell.py:3524: DtypeWarning: Columns (4) have mixed types.Specify dtype option on import or set low_memory=False.\n",
      "  exec(code_obj, self.user_global_ns, self.user_ns)\n",
      "/opt/conda/lib/python3.7/site-packages/IPython/core/interactiveshell.py:3524: DtypeWarning: Columns (4,5,20,21) have mixed types.Specify dtype option on import or set low_memory=False.\n",
      "  exec(code_obj, self.user_global_ns, self.user_ns)\n",
      "/opt/conda/lib/python3.7/site-packages/ipykernel_launcher.py:121: SettingWithCopyWarning: \n",
      "A value is trying to be set on a copy of a slice from a DataFrame\n",
      "\n",
      "See the caveats in the documentation: https://pandas.pydata.org/pandas-docs/stable/user_guide/indexing.html#returning-a-view-versus-a-copy\n"
     ]
    },
    {
     "name": "stdout",
     "output_type": "stream",
     "text": [
      "110 ['service_type', 'complaint_level', 'contract_type', 'gender', 'is_mix_service', 'is_promise_low_consume', 'many_over_bill', 'net_service', '1_total_fee', '2_total_fee', '3_total_fee', '4_total_fee', 'age', 'contract_time', 'former_complaint_fee', 'former_complaint_num', 'last_month_traffic', 'local_caller_time', 'local_trafffic_month', 'month_traffic', 'online_time', 'pay_num', 'pay_times', 'service1_caller_time', 'service2_caller_time', 'count_1_total_fee', 'count_2_total_fee', 'count_3_total_fee', 'count_4_total_fee', 'count_former_complaint_fee', 'count_pay_num', 'count_contract_time', 'count_last_month_traffic', 'count_online_time', 'count_service_type_1_total_fee', 'count_service_type_2_total_fee', 'count_service_type_3_total_fee', 'count_service_type_4_total_fee', 'count_service_type_former_complaint_fee', 'count_service_type_pay_num', 'count_service_type_contract_time', 'count_service_type_last_month_traffic', 'count_service_type_online_time', 'count_contract_type_1_total_fee', 'count_contract_type_2_total_fee', 'count_contract_type_3_total_fee', 'count_contract_type_4_total_fee', 'count_contract_type_former_complaint_fee', 'count_contract_type_pay_num', 'count_contract_type_contract_time', 'count_contract_type_last_month_traffic', 'count_contract_type_online_time', 'diff_total_fee_1', 'diff_total_fee_2', 'diff_total_fee_3', 'last_month_traffic_rest', 'rest_traffic_ratio', 'total_fee_mean', 'total_fee_max', 'total_fee_min', 'total_caller_time', 'service2_caller_ratio', 'local_caller_ratio', 'total_month_traffic', 'month_traffic_ratio', 'last_month_traffic_ratio', 'pay_num_1_total_fee', '1_total_fee_call_fee', '1_total_fee_call2_fee', '1_total_fee_trfc_fee', '1_total_feeW0', '1_total_feeW1', '1_total_feeW2', '1_total_feeW3', '1_total_feeW4', '1_total_feeW5', '1_total_feeW6', '1_total_feeW7', '1_total_feeW8', '1_total_feeW9', '2_total_feeW0', '2_total_feeW1', '2_total_feeW2', '2_total_feeW3', '2_total_feeW4', '2_total_feeW5', '2_total_feeW6', '2_total_feeW7', '2_total_feeW8', '2_total_feeW9', '3_total_feeW0', '3_total_feeW1', '3_total_feeW2', '3_total_feeW3', '3_total_feeW4', '3_total_feeW5', '3_total_feeW6', '3_total_feeW7', '3_total_feeW8', '3_total_feeW9', '4_total_feeW0', '4_total_feeW1', '4_total_feeW2', '4_total_feeW3', '4_total_feeW4', '4_total_feeW5', '4_total_feeW6', '4_total_feeW7', '4_total_feeW8', '4_total_feeW9']\n"
     ]
    }
   ],
   "source": [
    "import os\n",
    "import pandas as pd\n",
    "import numpy as np\n",
    "\n",
    "import lightgbm as lgb\n",
    "from sklearn.metrics import f1_score\n",
    "\n",
    "path = \"/kaggle/input/ccf-data/ccf_data/\"\n",
    "\n",
    "w2v_path = path + \"w2v/\"\n",
    "\n",
    "train = pd.read_csv(path + \"train_2.csv\")\n",
    "test = pd.read_csv(path + \"test_2.csv\")\n",
    "\n",
    "train_first = pd.read_csv(path + \"train_all.csv\")\n",
    "train[\"data_type\"] = 0\n",
    "test[\"data_type\"] = 0\n",
    "train_first[\"data_type\"] = 1\n",
    "\n",
    "data = pd.concat([train, test, train_first], ignore_index=True).fillna(0) # 将测试集中current_service填充0\n",
    "data[\"label\"] = data.current_service.astype(int)\n",
    "data = data.replace(\"\\\\N\", 999)\n",
    "data[\"gender\"] = data.gender.astype(int)\n",
    "\n",
    "# 原始类别特征\n",
    "origin_cate_feature = ['service_type', 'complaint_level', 'contract_type', 'gender', 'is_mix_service',\n",
    "                       'is_promise_low_consume',\n",
    "                       'many_over_bill', 'net_service']\n",
    "\n",
    "# 原始数值特征\n",
    "origin_num_feature = ['1_total_fee', '2_total_fee', '3_total_fee', '4_total_fee',\n",
    "                      'age', 'contract_time',\n",
    "                      'former_complaint_fee', 'former_complaint_num',\n",
    "                      'last_month_traffic', 'local_caller_time', 'local_trafffic_month', 'month_traffic',\n",
    "                      'online_time', 'pay_num', 'pay_times', 'service1_caller_time', 'service2_caller_time']\n",
    "\n",
    "# 转换为浮点数\n",
    "for i in origin_num_feature:\n",
    "    data[i] = data[i].astype(float)\n",
    "\n",
    "# 数据集和词向量特征合并\n",
    "w2v_features = []\n",
    "for col in ['1_total_fee', '2_total_fee', '3_total_fee', '4_total_fee']:\n",
    "    df = pd.read_csv(w2v_path + \"/\" + col + \".csv\")\n",
    "    df = df.drop_duplicates([col]) # 去除重复值\n",
    "    fs = list(df)\n",
    "    fs.remove(col) # 移除原始特征1_total_fee\n",
    "    w2v_features += fs\n",
    "    data = pd.merge(data, df, on=col, how=\"left\") # 合并\n",
    "count_feature_list = []\n",
    "\n",
    "# 新增count特征\n",
    "def feature_count(data, features=[]):\n",
    "    if len(set(features)) != len(features):\n",
    "        print(\"equal feature !!!\")\n",
    "        return data\n",
    "    new_feature = \"count\"\n",
    "    for i in features:\n",
    "        new_feature += \"_\" + i.replace(\"add_\", \"\")\n",
    "    try:\n",
    "        del data[new_feature]\n",
    "    except:\n",
    "        pass\n",
    "    # temp包含features和size特征\n",
    "    temp = data.groupby(features).size().reset_index().rename(columns={0:new_feature})\n",
    "    # 以features合并temp\n",
    "    data = data.merge(temp, \"left\", on=features)\n",
    "    count_feature_list.append(new_feature)\n",
    "    return data\n",
    "\n",
    "# 四个月缴费金额\n",
    "data = feature_count(data, ['1_total_fee'])\n",
    "data = feature_count(data, ['2_total_fee'])\n",
    "data = feature_count(data, ['3_total_fee'])\n",
    "data = feature_count(data, ['4_total_fee'])\n",
    "\n",
    "# 历史执行补救费用交费金额\n",
    "data = feature_count(data, ['former_complaint_fee'])\n",
    "\n",
    "# 交费金额\n",
    "data = feature_count(data, ['pay_num'])\n",
    "# 合约时长\n",
    "data = feature_count(data, ['contract_time'])\n",
    "# 上月结转流量\n",
    "data = feature_count(data, ['last_month_traffic'])\n",
    "# 在网时长\n",
    "data = feature_count(data, ['online_time'])\n",
    "\n",
    "# 套餐类型和合约类型与其他缴费相关\n",
    "for i in ['service_type', 'contract_type']:\n",
    "    data = feature_count(data, [i, '1_total_fee'])\n",
    "    data = feature_count(data, [i, '2_total_fee'])\n",
    "    data = feature_count(data, [i, '3_total_fee'])\n",
    "    data = feature_count(data, [i, '4_total_fee'])\n",
    "    # 历史执行补救费用交费金额\t\n",
    "    data = feature_count(data, [i, 'former_complaint_fee'])\n",
    "    \n",
    "    data = feature_count(data, [i, 'pay_num'])\n",
    "    data = feature_count(data, [i, 'contract_time'])\n",
    "    data = feature_count(data, [i, 'last_month_traffic'])\n",
    "    data = feature_count(data, [i, 'online_time'])\n",
    "    \n",
    "# 插值特征\n",
    "diff_feature_list = ['diff_total_fee_1', 'diff_total_fee_2', 'diff_total_fee_3', 'last_month_traffic_rest',\n",
    "                     'rest_traffic_ratio',\n",
    "                     'total_fee_mean', 'total_fee_max', 'total_fee_min', 'total_caller_time', 'service2_caller_ratio',\n",
    "                     'local_caller_ratio',\n",
    "                     'total_month_traffic', 'month_traffic_ratio', 'last_month_traffic_ratio', 'pay_num_1_total_fee',\n",
    "                     '1_total_fee_call_fee', '1_total_fee_call2_fee', '1_total_fee_trfc_fee']\n",
    "\n",
    "# 两个月之间的交费金额差值\n",
    "data['diff_total_fee_1'] = data['1_total_fee'] - data['2_total_fee']\n",
    "data['diff_total_fee_2'] = data['2_total_fee'] - data['3_total_fee']\n",
    "data['diff_total_fee_3'] = data['3_total_fee'] - data['4_total_fee']\n",
    "\n",
    "# 交费金额和当前总出账金额_月的差值\n",
    "data['pay_num_1_total_fee'] = data['pay_num'] - data['1_total_fee']\n",
    "\n",
    "# 流量差值\n",
    "data['last_month_traffic_rest'] = data['month_traffic'] - data['last_month_traffic']\n",
    "data['last_month_traffic_rest'][data['last_month_traffic_rest'] < 0] = 0  # 流量差值小于0的变为0\n",
    "data['rest_traffic_ratio'] = (data['last_month_traffic_rest'] * 15 / 1024) / data['1_total_fee']\n",
    "\n",
    "total_fee = []\n",
    "for i in range(1, 5):\n",
    "    total_fee.append(str(i) + '_total_fee')\n",
    "    \n",
    "# 4个月出账金额均值，最大值，最小值\n",
    "data['total_fee_mean'] = data[total_fee].mean(1)\n",
    "data['total_fee_max'] = data[total_fee].max(1)\n",
    "data['total_fee_min'] = data[total_fee].min(1)\n",
    "\n",
    "# 通话时长\n",
    "data['total_caller_time'] = data['service2_caller_time'] + data['service1_caller_time']\n",
    "data['service2_caller_ratio'] = data['service2_caller_time'] / data['total_caller_time']\n",
    "data['local_caller_ratio'] = data['local_caller_time'] / data['total_caller_time']\n",
    "\n",
    "# 累计流量\n",
    "data['total_month_traffic'] = data['local_trafffic_month'] + data['month_traffic']\n",
    "data['month_traffic_ratio'] = data['month_traffic'] / data['total_month_traffic']\n",
    "data['last_month_traffic_ratio'] = data['last_month_traffic'] / data['total_month_traffic']\n",
    "\n",
    "# 出账费用和套餐外通话时长费用\n",
    "data['1_total_fee_call_fee'] = data['1_total_fee'] - data['service1_caller_time'] * 0.15\n",
    "data['1_total_fee_call2_fee'] = data['1_total_fee'] - data['service2_caller_time'] * 0.15\n",
    "data['1_total_fee_trfc_fee'] = data['1_total_fee'] - (\n",
    "        data['month_traffic'] - 2 * data['last_month_traffic']) * 0.3\n",
    "\n",
    "# 套餐1，出账金额差值\n",
    "data.loc[data.service_type == 1, '1_total_fee_trfc_fee'] = None\n",
    "\n",
    "# 类别特征\n",
    "cate_feature = origin_cate_feature\n",
    "# 数值特征\n",
    "num_feature = origin_num_feature + count_feature_list + diff_feature_list + w2v_features\n",
    "\n",
    "# 变更数据格式\n",
    "for i in cate_feature:\n",
    "    data[i] = data[i].astype('category')\n",
    "for i in num_feature:\n",
    "    data[i] = data[i].astype(float)\n",
    "\n",
    "# 所有特征\n",
    "feature = cate_feature + num_feature\n",
    "print(len(feature), feature)\n",
    "\n",
    "# 删除当前套餐999999的数据\n",
    "data = data[data.label != 999999]\n",
    "\n",
    "# 初赛训练集\n",
    "train_x = data[(data.data_type == 1)][feature]\n",
    "train_y = data[(data.data_type == 1)].label\n",
    "\n",
    "# 复赛训练集\n",
    "test_x = data[(data.data_type == 0) &(data.label != 0)][feature]\n",
    "test_y = data[(data.data_type == 0) & (data.label != 0)].label"
   ]
  },
  {
   "cell_type": "markdown",
   "metadata": {
    "papermill": {
     "duration": 0.011551,
     "end_time": "2022-05-16T13:41:15.594679",
     "exception": false,
     "start_time": "2022-05-16T13:41:15.583128",
     "status": "completed"
    },
    "tags": []
   },
   "source": [
    "训练"
   ]
  },
  {
   "cell_type": "code",
   "execution_count": 3,
   "metadata": {
    "execution": {
     "iopub.execute_input": "2022-05-16T13:41:15.622474Z",
     "iopub.status.busy": "2022-05-16T13:41:15.621743Z",
     "iopub.status.idle": "2022-05-16T15:27:37.826427Z",
     "shell.execute_reply": "2022-05-16T15:27:37.824648Z"
    },
    "papermill": {
     "duration": 6382.254115,
     "end_time": "2022-05-16T15:27:37.862395",
     "exception": false,
     "start_time": "2022-05-16T13:41:15.608280",
     "status": "completed"
    },
    "tags": []
   },
   "outputs": [
    {
     "name": "stderr",
     "output_type": "stream",
     "text": [
      "/opt/conda/lib/python3.7/site-packages/lightgbm/basic.py:2065: UserWarning: Using categorical_feature in Dataset.\n",
      "  _log_warning('Using categorical_feature in Dataset.')\n"
     ]
    },
    {
     "name": "stdout",
     "output_type": "stream",
     "text": [
      "defaultdict(<class 'collections.OrderedDict'>, {})\n"
     ]
    }
   ],
   "source": [
    "lgb_model = lgb.LGBMClassifier(\n",
    "    boosting_type=\"gbdt\", num_leaves=120, reg_alpha=0, reg_lambda=0.,\n",
    "    max_depth=-1, n_estimators=2500, objective='multiclass', metric=\"None\",\n",
    "    subsample=0.9, colsample_bytree=0.5, subsample_freq=1,\n",
    "    learning_rate=0.035, random_state=2018, n_jobs=10\n",
    ")\n",
    "lgb_model.fit(train_x, train_y, categorical_feature=cate_feature)\n",
    "print(lgb_model.best_score_)"
   ]
  },
  {
   "cell_type": "markdown",
   "metadata": {
    "papermill": {
     "duration": 0.014632,
     "end_time": "2022-05-16T15:27:37.890190",
     "exception": false,
     "start_time": "2022-05-16T15:27:37.875558",
     "status": "completed"
    },
    "tags": []
   },
   "source": [
    "stacking feature"
   ]
  },
  {
   "cell_type": "code",
   "execution_count": 4,
   "metadata": {
    "execution": {
     "iopub.execute_input": "2022-05-16T15:27:37.921386Z",
     "iopub.status.busy": "2022-05-16T15:27:37.920588Z",
     "iopub.status.idle": "2022-05-16T16:22:14.036150Z",
     "shell.execute_reply": "2022-05-16T16:22:14.034271Z"
    },
    "papermill": {
     "duration": 3276.143748,
     "end_time": "2022-05-16T16:22:14.047005",
     "exception": false,
     "start_time": "2022-05-16T15:27:37.903257",
     "status": "completed"
    },
    "tags": []
   },
   "outputs": [
    {
     "name": "stdout",
     "output_type": "stream",
     "text": [
      "/kaggle/working/stack\n",
      "374653 160566\n",
      "[0.81838353 0.94105106 0.94755196 0.99769692 0.99688882 0.96329085\n",
      " 0.93226959 0.82596785 0.76647419 0.84641275 0.53931993]\n"
     ]
    }
   ],
   "source": [
    "stacking_path = path = \"/kaggle/working/stack\"\n",
    "if not os.path.exists(stacking_path):\n",
    "    print(stacking_path)\n",
    "    os.makedirs(stacking_path)\n",
    "    train_proba = lgb_model.predict_proba(test_x[feature]) # 复赛训练集\n",
    "    test_proba = lgb_model.predict_proba(data[data.label == 0][feature]) # 复赛测试集\n",
    "    print(len(train_proba), len(test_proba))\n",
    "    stacking_train = data[(data.data_type == 0) & (data.label != 0)][['user_id']]  # 复赛训练集user_id\n",
    "    stacking_test = data[data.label == 0][['user_id']]  # 复赛测试集user_id\n",
    "    # current_service 11类\n",
    "    for i in range(11):\n",
    "        stacking_train['stacking_' + str(i)] = train_proba[:, i]\n",
    "        stacking_test['stacking_' + str(i)] = test_proba[:, i]\n",
    "    stacking_train.to_csv(stacking_path + '/train.csv', index=False)\n",
    "    stacking_test.to_csv(stacking_path + '/test.csv', index=False)\n",
    "\n",
    "score = f1_score(y_true=test_y, y_pred=lgb_model.predict(test_x), average=None)\n",
    "print(score)"
   ]
  },
  {
   "cell_type": "code",
   "execution_count": 5,
   "metadata": {
    "execution": {
     "iopub.execute_input": "2022-05-16T16:22:14.079665Z",
     "iopub.status.busy": "2022-05-16T16:22:14.078933Z",
     "iopub.status.idle": "2022-05-16T16:22:14.087250Z",
     "shell.execute_reply": "2022-05-16T16:22:14.086012Z"
    },
    "papermill": {
     "duration": 0.028386,
     "end_time": "2022-05-16T16:22:14.089563",
     "exception": false,
     "start_time": "2022-05-16T16:22:14.061177",
     "status": "completed"
    },
    "tags": []
   },
   "outputs": [
    {
     "name": "stdout",
     "output_type": "stream",
     "text": [
      "['__notebook__.ipynb', 'stack']\n"
     ]
    }
   ],
   "source": [
    "print(os.listdir(\"/kaggle/working\"))"
   ]
  },
  {
   "cell_type": "code",
   "execution_count": null,
   "metadata": {
    "papermill": {
     "duration": 0.014037,
     "end_time": "2022-05-16T16:22:14.118297",
     "exception": false,
     "start_time": "2022-05-16T16:22:14.104260",
     "status": "completed"
    },
    "tags": []
   },
   "outputs": [],
   "source": []
  }
 ],
 "metadata": {
  "kernelspec": {
   "display_name": "Python 3",
   "language": "python",
   "name": "python3"
  },
  "language_info": {
   "codemirror_mode": {
    "name": "ipython",
    "version": 3
   },
   "file_extension": ".py",
   "mimetype": "text/x-python",
   "name": "python",
   "nbconvert_exporter": "python",
   "pygments_lexer": "ipython3",
   "version": "3.7.6"
  },
  "papermill": {
   "default_parameters": {},
   "duration": 9724.020181,
   "end_time": "2022-05-16T16:22:16.401504",
   "environment_variables": {},
   "exception": null,
   "input_path": "__notebook__.ipynb",
   "output_path": "__notebook__.ipynb",
   "parameters": {},
   "start_time": "2022-05-16T13:40:12.381323",
   "version": "2.3.4"
  },
  "toc": {
   "base_numbering": 1,
   "nav_menu": {},
   "number_sections": true,
   "sideBar": true,
   "skip_h1_title": false,
   "title_cell": "Table of Contents",
   "title_sidebar": "Contents",
   "toc_cell": false,
   "toc_position": {},
   "toc_section_display": true,
   "toc_window_display": false
  }
 },
 "nbformat": 4,
 "nbformat_minor": 5
}
