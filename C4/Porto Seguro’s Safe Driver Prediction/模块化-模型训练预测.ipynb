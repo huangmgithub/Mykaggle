{
 "cells": [
  {
   "cell_type": "code",
   "execution_count": null,
   "metadata": {},
   "outputs": [],
   "source": [
    "def get_predict_w(model, data, label='label', feature=[], cate_feature=[], random_state=2018, n_splits=5,\n",
    "                  model_type='lgb'):\n",
    "    if 'sample_weight' not in data.keys():\n",
    "        data['sample_weight'] = 1\n",
    "    model.random_state = random_state\n",
    "    predict_label = 'predict_' + label\n",
    "    kfold = KFold(n_splits=n_splits, shuffle=True, random_state=random_state)\n",
    "    data[predict_label] = 0\n",
    "    test_index = (data[label].isnull()) | (data[label] == -1)\n",
    "    train_data = data[~test_index].reset_index(drop=True)\n",
    "    test_data = data[test_index]\n",
    "\n",
    "    for train_idx, val_idx in kfold.split(train_data):\n",
    "        model.random_state = model.random_state + 1\n",
    "\n",
    "        train_x = train_data.loc[train_idx][feature]\n",
    "        train_y = train_data.loc[train_idx][label]\n",
    "\n",
    "        test_x = train_data.loc[val_idx][feature]\n",
    "        test_y = train_data.loc[val_idx][label]\n",
    "        if model_type == 'lgb':\n",
    "            try:\n",
    "                model.fit(train_x, train_y, eval_set=[(test_x, test_y)], early_stopping_rounds=100,\n",
    "                          eval_metric='auc',\n",
    "                          categorical_feature=cate_feature,\n",
    "                          sample_weight=train_data.loc[train_idx]['sample_weight'],\n",
    "                          verbose=100\n",
    "                          )\n",
    "            except:\n",
    "                model.fit(train_x, train_y, eval_set=[(test_x, test_y)], early_stopping_rounds=100,\n",
    "                          eval_metric='mae',\n",
    "                          # categorical_feature=cate_feature,\n",
    "                          sample_weight=train_data.loc[train_idx]['sample_weight'],\n",
    "                          verbose=100)\n",
    "        elif model_type == 'ctb':\n",
    "            model.fit(train_x, train_y, eval_set=[(test_x, test_y)], early_stopping_rounds=100,\n",
    "                      eval_metric='mae',\n",
    "                      cat_features=cate_feature,\n",
    "                      sample_weight=train_data.loc[train_idx]['sample_weight'],\n",
    "                      verbose=100)\n",
    "        train_data.loc[val_idx, predict_label] = model.predict(test_x)\n",
    "        if len(test_data) != 0:\n",
    "            test_data[predict_label] = test_data[predict_label] + model.predict(test_data[feature])\n",
    "    test_data[predict_label] = test_data[predict_label] / n_splits\n",
    "    return pd.concat([train_data, test_data], sort=True, ignore_index=True), predict_label"
   ]
  }
 ],
 "metadata": {
  "kernelspec": {
   "display_name": "Python 3",
   "language": "python",
   "name": "python3"
  },
  "language_info": {
   "codemirror_mode": {
    "name": "ipython",
    "version": 3
   },
   "file_extension": ".py",
   "mimetype": "text/x-python",
   "name": "python",
   "nbconvert_exporter": "python",
   "pygments_lexer": "ipython3",
   "version": "3.7.3"
  }
 },
 "nbformat": 4,
 "nbformat_minor": 2
}
