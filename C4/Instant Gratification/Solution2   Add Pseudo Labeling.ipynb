{
 "cells": [
  {
   "cell_type": "code",
   "execution_count": 1,
   "metadata": {},
   "outputs": [],
   "source": [
    "import numpy as np\n",
    "import pandas as pd\n",
    "# 显示所有列\n",
    "pd.set_option(\"display.max_columns\",  None)\n",
    "\n",
    "from sklearn.model_selection import StratifiedKFold\n",
    "from sklearn.metrics import roc_auc_score\n",
    "from sklearn.preprocessing import StandardScaler\n",
    "\n",
    "# 方差阈值法，用于特征选择，过滤器法的一种，去掉那些方差没有达到阈值的特征。默认情况下，删除零方差的特征\n",
    "from sklearn.feature_selection import VarianceThreshold  # https://zhuanlan.zhihu.com/p/331853738\n",
    "\n",
    "from sklearn.discriminant_analysis import QuadraticDiscriminantAnalysis\n",
    "\n",
    "from tqdm import tqdm_notebook\n",
    "\n",
    "import warnings\n",
    "warnings.filterwarnings(\"ignore\")"
   ]
  },
  {
   "cell_type": "markdown",
   "metadata": {},
   "source": [
    "### Step 1 and 2 - Build first QDA model and predict test"
   ]
  },
  {
   "cell_type": "code",
   "execution_count": 2,
   "metadata": {},
   "outputs": [],
   "source": [
    "# data\n",
    "train = pd.read_csv(\"./input/train.csv\")\n",
    "test = pd.read_csv(\"./input/test.csv\")\n",
    "\n",
    "cols = [c for c in train.columns if c not in [\"id\", \"target\", \"wheezy-copper-turtle-magic\"]]"
   ]
  },
  {
   "cell_type": "code",
   "execution_count": 11,
   "metadata": {},
   "outputs": [
    {
     "data": {
      "application/vnd.jupyter.widget-view+json": {
       "model_id": "d9cbc105f9ea4b9382370070bd437d17",
       "version_major": 2,
       "version_minor": 0
      },
      "text/plain": [
       "HBox(children=(FloatProgress(value=0.0, max=512.0), HTML(value='')))"
      ]
     },
     "metadata": {},
     "output_type": "display_data"
    },
    {
     "name": "stdout",
     "output_type": "stream",
     "text": [
      "\n",
      "AUC:  0.96497\n"
     ]
    }
   ],
   "source": [
    "oof = np.zeros(len(train))\n",
    "preds = np.zeros(len(test))\n",
    "\n",
    "# 512个模型\n",
    "for i in tqdm_notebook(range(512)):\n",
    "    train2 = train[train[\"wheezy-copper-turtle-magic\"] == i]\n",
    "    test2 = test[test[\"wheezy-copper-turtle-magic\"] == i]\n",
    "    if (len(train2) == 0)&(len(test2) == 0):continue\n",
    "    # 数据索引\n",
    "    idx1 = train2.index; idx2 = test2.index\n",
    "    train2.reset_index(drop=True, inplace=True)\n",
    "    \n",
    "#     data = pd.concat([pd.DataFrame(train2[cols]), pd.DataFrame(test2[cols])])\n",
    "    # fit_transform（X [，y]）适合数据，然后对其进行转换\n",
    "#     data2 = VarianceThreshold(threshold=2).fit_transform(data[cols]) # 得到符合方差阈值的特征\n",
    "\n",
    "    # 特征选择(方差阈值法)\n",
    "    sel = VarianceThreshold(threshold=1.5).fit(train2[cols])\n",
    "    train3 = sel.transform(train2[cols])\n",
    "    if len(test2) > 0: test3 = sel.transform(test2[cols])  \n",
    "#     print(data2)\n",
    "#     print(data2.shape)\n",
    "#     print(train2.shape)\n",
    "#     print(data.shape)\n",
    "    # 与train2差在特征数量\n",
    "#     train3 = data2[:train2.shape[0]];test3 = data2[train2.shape[0]:]\n",
    "\n",
    "    skf = StratifiedKFold(n_splits=11, random_state=42, shuffle=True) # KFold\n",
    "    # train_index训练集索引, test_index测试集索引\n",
    "    for train_index, test_index in skf.split(train3, train2[\"target\"]):\n",
    "#         print(train_index, test_index)\n",
    "        clf = QuadraticDiscriminantAnalysis(0.1) # QDA\n",
    "#         print(train3[train_index,:])\n",
    "        clf.fit(train3[train_index, :], train2.loc[train_index][\"target\"])\n",
    "        oof[idx1[test_index]] = clf.predict_proba(train3[test_index, :])[:, 1] # train中划分测试集的预测结果\n",
    "        # test金额\n",
    "        if len(test2) > 0: preds[idx2] += clf.predict_proba(test3)[:, 1] / skf.n_splits # 相加的结果除划分的次数\n",
    "\n",
    "auc = roc_auc_score(train[\"target\"], oof) # 训练集预测结果和实际结果比较\n",
    "print(f\"AUC: {auc: .5}\")"
   ]
  },
  {
   "cell_type": "markdown",
   "metadata": {},
   "source": [
    "### Step 3 & 4 - Add pseudo label data and build second model"
   ]
  },
  {
   "cell_type": "code",
   "execution_count": 12,
   "metadata": {},
   "outputs": [
    {
     "data": {
      "application/vnd.jupyter.widget-view+json": {
       "model_id": "cbb6f96182314c90a7f8787db37a5a29",
       "version_major": 2,
       "version_minor": 0
      },
      "text/plain": [
       "HBox(children=(FloatProgress(value=0.0, max=512.0), HTML(value='')))"
      ]
     },
     "metadata": {},
     "output_type": "display_data"
    },
    {
     "name": "stdout",
     "output_type": "stream",
     "text": [
      "\n",
      "Pseudo Labeled QDA scores CV = 0.96774\n"
     ]
    }
   ],
   "source": [
    "test[\"target\"] = preds\n",
    "oof = np.zeros(len(train))\n",
    "preds = np.zeros(len(test))\n",
    "\n",
    "# 512 model\n",
    "for k in tqdm_notebook(range(512)):\n",
    "    train2 = train[train[\"wheezy-copper-turtle-magic\"] == k]\n",
    "    train2p = train2.copy();idx1 = train2.index\n",
    "    test2 = test[test[\"wheezy-copper-turtle-magic\"] == k]\n",
    "    \n",
    "    # 伪标签data\n",
    "    test2p = test2[(test2[\"target\"]<=0.01) | (test2[\"target\"]>=0.99)].copy()\n",
    "    test2p.loc[test2p[\"target\"]>=0.5, \"target\"] = 1 # 大于等于0.5是为1\n",
    "    test2p.loc[test2p[\"target\"]<0.5, \"target\"] = 0 # 小于0.5是为0\n",
    "    train2p = pd.concat([train2p, test2p], axis=0) # 连接\n",
    "    train2p.reset_index(drop=True, inplace=True)\n",
    "    \n",
    "    # 特征选择(方差阈值法)\n",
    "    sel = VarianceThreshold(threshold=1.5).fit(train2p[cols])\n",
    "    train3p = sel.transform(train2p[cols]) # test2p和train2p组合\n",
    "    train3 = sel.transform(train2[cols]) # train2\n",
    "    if len(test2) > 0: test3 = sel.transform(test2[cols])\n",
    "        \n",
    "    skf = StratifiedKFold(n_splits=11, random_state=42, shuffle=True)\n",
    "    for train_index, test_index in skf.split(train3p, train2p[\"target\"]):\n",
    "        test_index3 = test_index[test_index<len(train3)] # 排除掉伪标签，oof没有\n",
    "        \n",
    "        clf = QuadraticDiscriminantAnalysis(0.5) # QDA\n",
    "        clf.fit(train3p[train_index, :], train2p.loc[train_index][\"target\"])\n",
    "        oof[idx1[test_index3]] = clf.predict_proba(train3[test_index3, :])[:, 1] # train中划分测试集的预测结果\n",
    "        # test金额\n",
    "        if len(test2) > 0: preds[test2.index] += clf.predict_proba(test3)[:, 1] / skf.n_splits # 相加的结果除划分的次数\n",
    "\n",
    "auc = roc_auc_score(train[\"target\"], oof)\n",
    "print('Pseudo Labeled QDA scores CV =',round(auc,5))"
   ]
  },
  {
   "cell_type": "code",
   "execution_count": null,
   "metadata": {},
   "outputs": [],
   "source": []
  }
 ],
 "metadata": {
  "kernelspec": {
   "display_name": "Python [conda env:Anaconda3]",
   "language": "python",
   "name": "conda-env-Anaconda3-py"
  },
  "language_info": {
   "codemirror_mode": {
    "name": "ipython",
    "version": 3
   },
   "file_extension": ".py",
   "mimetype": "text/x-python",
   "name": "python",
   "nbconvert_exporter": "python",
   "pygments_lexer": "ipython3",
   "version": "3.7.6"
  },
  "toc": {
   "base_numbering": 1,
   "nav_menu": {},
   "number_sections": true,
   "sideBar": true,
   "skip_h1_title": false,
   "title_cell": "Table of Contents",
   "title_sidebar": "Contents",
   "toc_cell": false,
   "toc_position": {},
   "toc_section_display": true,
   "toc_window_display": false
  }
 },
 "nbformat": 4,
 "nbformat_minor": 4
}
