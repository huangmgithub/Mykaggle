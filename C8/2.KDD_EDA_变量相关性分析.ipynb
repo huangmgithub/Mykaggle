{
 "cells": [
  {
   "cell_type": "markdown",
   "metadata": {},
   "source": [
    "# Import Libraries & Load Data"
   ]
  },
  {
   "cell_type": "markdown",
   "metadata": {},
   "source": [
    "##  Import Libraries"
   ]
  },
  {
   "cell_type": "code",
   "execution_count": 57,
   "metadata": {},
   "outputs": [
    {
     "data": {
      "text/html": [
       "        <script type=\"text/javascript\">\n",
       "        window.PlotlyConfig = {MathJaxConfig: 'local'};\n",
       "        if (window.MathJax) {MathJax.Hub.Config({SVG: {font: \"STIX-Web\"}});}\n",
       "        if (typeof require !== 'undefined') {\n",
       "        require.undef(\"plotly\");\n",
       "        requirejs.config({\n",
       "            paths: {\n",
       "                'plotly': ['https://cdn.plot.ly/plotly-latest.min']\n",
       "            }\n",
       "        });\n",
       "        require(['plotly'], function(Plotly) {\n",
       "            window._Plotly = Plotly;\n",
       "        });\n",
       "        }\n",
       "        </script>\n",
       "        "
      ]
     },
     "metadata": {},
     "output_type": "display_data"
    }
   ],
   "source": [
    "import numpy as np\n",
    "import pandas as pd\n",
    "import os \n",
    "from tqdm import tqdm_notebook\n",
    "from sklearn.preprocessing import StandardScaler\n",
    "from sklearn.svm import NuSVR, SVR\n",
    "from sklearn.metrics import mean_absolute_error\n",
    "import lightgbm as lgb\n",
    "import xgboost as xgb\n",
    "import time\n",
    "import datetime \n",
    "from sklearn.preprocessing import LabelEncoder\n",
    "from sklearn.model_selection import StratifiedKFold, KFold, RepeatedKFold\n",
    "from sklearn.metrics import mean_absolute_error\n",
    "from sklearn.linear_model import LinearRegression\n",
    "import gc\n",
    "\n",
    "from scipy.signal import hilbert\n",
    "from scipy.signal import hann\n",
    "from scipy.signal import convolve\n",
    "from scipy import stats\n",
    "from sklearn.kernel_ridge import KernelRidge\n",
    " \n",
    "from collections import Counter \n",
    "from statistics import mode \n",
    "    \n",
    "import seaborn as sns\n",
    "import matplotlib.pyplot as plt\n",
    "%matplotlib inline\n",
    "\n",
    "import warnings\n",
    "warnings.filterwarnings(\"ignore\")\n",
    "\n",
    "from tqdm import tqdm\n",
    "import json \n",
    "from sklearn.metrics import f1_score\n",
    "from sklearn.model_selection import StratifiedKFold\n",
    "from itertools import product\n",
    "import ast \n",
    "tqdm.pandas()\n",
    "\n",
    "import plotly.plotly as py\n",
    "import plotly\n",
    "import plotly.graph_objs as go\n",
    "from plotly.offline import init_notebook_mode, iplot\n",
    "plotly.offline.init_notebook_mode(connected=True)"
   ]
  },
  {
   "cell_type": "markdown",
   "metadata": {},
   "source": [
    "## Self-Defined Tools "
   ]
  },
  {
   "cell_type": "code",
   "execution_count": 58,
   "metadata": {},
   "outputs": [],
   "source": [
    "def value_counts_plot(df, name, xmin=False):\n",
    "    \n",
    "    plt.figure(figsize=[16,8])\n",
    "    plt.subplot(1,2,1)\n",
    "    df[name].value_counts().sort_index().plot()\n",
    "    if xmin == True:\n",
    "        plt.xlim(xmin = -100)\n",
    "    plt.xlabel(name)\n",
    "    plt.ylabel(\"Number of appearance\")\n",
    "    \n",
    "    plt.subplot(1,2,2)\n",
    "    df[name].value_counts().value_counts().sort_index().plot()\n",
    "    if xmin == True:\n",
    "        plt.xlim(xmin = -100)\n",
    "    plt.xlabel('Number of appeareance of {}'.format(name))\n",
    "    plt.ylabel('Number of appeareance of appearance')"
   ]
  },
  {
   "cell_type": "markdown",
   "metadata": {},
   "source": [
    "## Load Data"
   ]
  },
  {
   "cell_type": "code",
   "execution_count": 59,
   "metadata": {},
   "outputs": [],
   "source": [
    "path = './kdd2019/data/'\n",
    "\n",
    "train_queries1 = pd.read_csv(path + 'train_queries_phase1.csv', parse_dates=['req_time'])\n",
    "train_plans1   = pd.read_csv(path + 'train_plans_phase1.csv', parse_dates=['plan_time'])\n",
    "train_clicks1  = pd.read_csv(path + 'train_clicks_phase1.csv')\n",
    "\n",
    "train_queries2 = pd.read_csv(path + 'train_queries_phase2.csv', parse_dates=['req_time'])\n",
    "train_plans2   = pd.read_csv(path + 'train_plans_phase2.csv', parse_dates=['plan_time'])\n",
    "train_clicks2  = pd.read_csv(path + 'train_clicks_phase2.csv')\n",
    "\n",
    "profiles      = pd.read_csv(path + 'profiles.csv') \n",
    "\n",
    "test_queries  = pd.read_csv(path + 'test_queries.csv', parse_dates=['req_time'])\n",
    "test_plans    = pd.read_csv(path + 'test_plans.csv', parse_dates=['plan_time'])"
   ]
  },
  {
   "cell_type": "code",
   "execution_count": 60,
   "metadata": {},
   "outputs": [],
   "source": [
    "train_plans   = pd.concat([train_plans1, train_plans2],axis=0,ignore_index=True)\n",
    "train_queries = pd.concat([train_queries1, train_queries2],axis=0,ignore_index=True)\n",
    "train_clicks  = pd.concat([train_clicks1, train_clicks2],axis=0,ignore_index=True)"
   ]
  },
  {
   "cell_type": "markdown",
   "metadata": {},
   "source": [
    "# Single Variable Data Analysis"
   ]
  },
  {
   "cell_type": "markdown",
   "metadata": {},
   "source": [
    "## train_plans data set"
   ]
  },
  {
   "cell_type": "code",
   "execution_count": 61,
   "metadata": {},
   "outputs": [
    {
     "data": {
      "text/html": [
       "<div>\n",
       "<style scoped>\n",
       "    .dataframe tbody tr th:only-of-type {\n",
       "        vertical-align: middle;\n",
       "    }\n",
       "\n",
       "    .dataframe tbody tr th {\n",
       "        vertical-align: top;\n",
       "    }\n",
       "\n",
       "    .dataframe thead th {\n",
       "        text-align: right;\n",
       "    }\n",
       "</style>\n",
       "<table border=\"1\" class=\"dataframe\">\n",
       "  <thead>\n",
       "    <tr style=\"text-align: right;\">\n",
       "      <th></th>\n",
       "      <th>sid</th>\n",
       "      <th>plan_time</th>\n",
       "      <th>plans</th>\n",
       "    </tr>\n",
       "  </thead>\n",
       "  <tbody>\n",
       "    <tr>\n",
       "      <th>0</th>\n",
       "      <td>149233</td>\n",
       "      <td>2018-10-01 13:02:01</td>\n",
       "      <td>[{\"distance\": 2100, \"price\": 300, \"eta\": 1064,...</td>\n",
       "    </tr>\n",
       "    <tr>\n",
       "      <th>1</th>\n",
       "      <td>337156</td>\n",
       "      <td>2018-11-23 10:48:25</td>\n",
       "      <td>[{\"distance\": 8887, \"price\": 400, \"eta\": 1631,...</td>\n",
       "    </tr>\n",
       "    <tr>\n",
       "      <th>2</th>\n",
       "      <td>398930</td>\n",
       "      <td>2018-11-08 12:23:06</td>\n",
       "      <td>[{\"distance\": 8471, \"price\": 2300, \"eta\": 1284...</td>\n",
       "    </tr>\n",
       "    <tr>\n",
       "      <th>3</th>\n",
       "      <td>196610</td>\n",
       "      <td>2018-11-27 12:11:59</td>\n",
       "      <td>[{\"distance\": 32405, \"price\": 2500, \"eta\": 477...</td>\n",
       "    </tr>\n",
       "    <tr>\n",
       "      <th>4</th>\n",
       "      <td>302267</td>\n",
       "      <td>2018-10-18 17:22:19</td>\n",
       "      <td>[{\"distance\": 38511, \"price\": 700, \"eta\": 4715...</td>\n",
       "    </tr>\n",
       "  </tbody>\n",
       "</table>\n",
       "</div>"
      ],
      "text/plain": [
       "      sid           plan_time  \\\n",
       "0  149233 2018-10-01 13:02:01   \n",
       "1  337156 2018-11-23 10:48:25   \n",
       "2  398930 2018-11-08 12:23:06   \n",
       "3  196610 2018-11-27 12:11:59   \n",
       "4  302267 2018-10-18 17:22:19   \n",
       "\n",
       "                                               plans  \n",
       "0  [{\"distance\": 2100, \"price\": 300, \"eta\": 1064,...  \n",
       "1  [{\"distance\": 8887, \"price\": 400, \"eta\": 1631,...  \n",
       "2  [{\"distance\": 8471, \"price\": 2300, \"eta\": 1284...  \n",
       "3  [{\"distance\": 32405, \"price\": 2500, \"eta\": 477...  \n",
       "4  [{\"distance\": 38511, \"price\": 700, \"eta\": 4715...  "
      ]
     },
     "execution_count": 61,
     "metadata": {},
     "output_type": "execute_result"
    }
   ],
   "source": [
    "train_plans.head()"
   ]
  },
  {
   "cell_type": "markdown",
   "metadata": {},
   "source": [
    "### sid filed\n",
    "1. Sid is unique"
   ]
  },
  {
   "cell_type": "code",
   "execution_count": 62,
   "metadata": {},
   "outputs": [
    {
     "data": {
      "text/plain": [
       "2047       1\n",
       "356868     1\n",
       "1741304    1\n",
       "1743353    1\n",
       "1737210    1\n",
       "          ..\n",
       "709647     1\n",
       "666640     1\n",
       "664593     1\n",
       "670738     1\n",
       "0          1\n",
       "Name: sid, Length: 1938572, dtype: int64"
      ]
     },
     "execution_count": 62,
     "metadata": {},
     "output_type": "execute_result"
    }
   ],
   "source": [
    "train_plans[\"sid\"].value_counts()"
   ]
  },
  {
   "cell_type": "markdown",
   "metadata": {},
   "source": [
    "### plan_time filed\n",
    "1. 请求编号每天都在变化, 有两天2018-10-09和2018-11-05的请求时间少于6000次，其他几天至少有20000+次请求;\n",
    "2. 由于国庆节，2018-10-01至2018-10-07之间有更多请求，特别是在2018-10-01-2018-10-03。\n",
    "3. 每个工作日的分布是不同的，看起来周五，周六和周日有更多要求。"
   ]
  },
  {
   "cell_type": "code",
   "execution_count": 63,
   "metadata": {},
   "outputs": [],
   "source": [
    "train_plans[\"plan_time\"] = pd.to_datetime(train_plans[\"plan_time\"])\n",
    "train_plans[\"plan_time_date\"] = train_plans[\"plan_time\"].dt.date\n",
    "train_plans[\"plan_time_dow\"] = train_plans[\"plan_time\"].dt.weekday"
   ]
  },
  {
   "cell_type": "code",
   "execution_count": 64,
   "metadata": {},
   "outputs": [
    {
     "data": {
      "text/plain": [
       "2018-10-09     5555\n",
       "2018-11-05     5929\n",
       "2018-10-15    20172\n",
       "2018-11-30    24401\n",
       "2018-10-08    26010\n",
       "2018-11-12    26228\n",
       "2018-11-13    26929\n",
       "2018-11-28    27038\n",
       "2018-10-10    27093\n",
       "2018-11-14    27258\n",
       "2018-11-27    27372\n",
       "2018-11-08    27802\n",
       "2018-11-06    27906\n",
       "2018-11-15    27947\n",
       "2018-11-19    28063\n",
       "2018-11-29    28072\n",
       "2018-11-26    28101\n",
       "2018-11-07    28388\n",
       "2018-10-22    28809\n",
       "2018-10-23    28884\n",
       "2018-10-11    28942\n",
       "2018-10-30    29282\n",
       "2018-10-18    29407\n",
       "2018-10-29    29424\n",
       "2018-11-20    29467\n",
       "2018-10-24    29488\n",
       "2018-10-16    29570\n",
       "2018-11-21    29700\n",
       "2018-10-25    29824\n",
       "2018-11-01    29885\n",
       "2018-10-17    29924\n",
       "2018-10-31    29996\n",
       "2018-11-22    31042\n",
       "2018-10-04    31153\n",
       "2018-11-11    32730\n",
       "2018-11-02    33562\n",
       "2018-11-16    33791\n",
       "2018-10-12    33917\n",
       "2018-10-14    34509\n",
       "2018-11-09    34557\n",
       "2018-11-04    34845\n",
       "2018-10-19    35281\n",
       "2018-11-18    35293\n",
       "2018-11-25    35832\n",
       "2018-10-26    35860\n",
       "2018-10-07    35914\n",
       "2018-11-23    36567\n",
       "2018-10-21    36940\n",
       "2018-10-28    37237\n",
       "2018-11-10    38865\n",
       "2018-11-03    39200\n",
       "2018-10-13    39700\n",
       "2018-11-17    40193\n",
       "2018-10-06    41551\n",
       "2018-10-20    41552\n",
       "2018-11-24    42571\n",
       "2018-10-27    44045\n",
       "2018-10-05    46146\n",
       "2018-10-03    60981\n",
       "2018-10-01    61872\n",
       "Name: plan_time_date, dtype: int64"
      ]
     },
     "execution_count": 64,
     "metadata": {},
     "output_type": "execute_result"
    }
   ],
   "source": [
    "train_plans[\"plan_time_date\"].value_counts().sort_values()"
   ]
  },
  {
   "cell_type": "code",
   "execution_count": 65,
   "metadata": {},
   "outputs": [
    {
     "data": {
      "text/plain": [
       "Text(0, 0.5, 'Number of appeareance')"
      ]
     },
     "execution_count": 65,
     "metadata": {},
     "output_type": "execute_result"
    },
    {
     "data": {
      "image/png": "[encoded data removed]",
      "text/plain": [
       "<Figure size 1152x576 with 1 Axes>"
      ]
     },
     "metadata": {
      "needs_background": "light"
     },
     "output_type": "display_data"
    }
   ],
   "source": [
    "plt.figure(figsize=[16,8])\n",
    "train_plans[\"plan_time_date\"].value_counts().sort_index().plot(kind=\"bar\")\n",
    "plt.xlabel('plan_time')\n",
    "plt.ylabel('Number of appeareance') "
   ]
  },
  {
   "cell_type": "markdown",
   "metadata": {},
   "source": [
    "有两天2018-10-09和2018-11-05的请求时间少于6000次"
   ]
  },
  {
   "cell_type": "code",
   "execution_count": 66,
   "metadata": {},
   "outputs": [
    {
     "data": {
      "text/plain": [
       "<matplotlib.axes._subplots.AxesSubplot at 0x1d83ac5c208>"
      ]
     },
     "execution_count": 66,
     "metadata": {},
     "output_type": "execute_result"
    },
    {
     "data": {
      "image/png": "[encoded data removed]",
      "text/plain": [
       "<Figure size 1152x576 with 2 Axes>"
      ]
     },
     "metadata": {
      "needs_background": "light"
     },
     "output_type": "display_data"
    }
   ],
   "source": [
    "plt.figure(figsize=[16,8])\n",
    "plt.subplot(1,2,1)\n",
    "train_plans[\"plan_time_dow\"].value_counts().sort_index().plot(kind=\"bar\")\n",
    "plt.xlabel('Day of Week')\n",
    "plt.ylabel('Number of appeareance')\n",
    "plt.subplot(1, 2, 2)\n",
    "train_plans['plan_time_dow'].value_counts().sort_index().plot(kind = 'pie') "
   ]
  },
  {
   "cell_type": "markdown",
   "metadata": {},
   "source": [
    "每个工作日的分布是不同的，看起来周五，周六和周日有更多要求"
   ]
  },
  {
   "cell_type": "code",
   "execution_count": 67,
   "metadata": {},
   "outputs": [
    {
     "data": {
      "text/html": [
       "<div>\n",
       "<style scoped>\n",
       "    .dataframe tbody tr th:only-of-type {\n",
       "        vertical-align: middle;\n",
       "    }\n",
       "\n",
       "    .dataframe tbody tr th {\n",
       "        vertical-align: top;\n",
       "    }\n",
       "\n",
       "    .dataframe thead th {\n",
       "        text-align: right;\n",
       "    }\n",
       "</style>\n",
       "<table border=\"1\" class=\"dataframe\">\n",
       "  <thead>\n",
       "    <tr style=\"text-align: right;\">\n",
       "      <th></th>\n",
       "      <th>sid</th>\n",
       "      <th>plan_time</th>\n",
       "      <th>plans</th>\n",
       "      <th>plan_time_date</th>\n",
       "      <th>plan_time_dow</th>\n",
       "    </tr>\n",
       "  </thead>\n",
       "  <tbody>\n",
       "    <tr>\n",
       "      <th>0</th>\n",
       "      <td>149233</td>\n",
       "      <td>2018-10-01 13:02:01</td>\n",
       "      <td>[{\"distance\": 2100, \"price\": 300, \"eta\": 1064,...</td>\n",
       "      <td>2018-10-01</td>\n",
       "      <td>0</td>\n",
       "    </tr>\n",
       "    <tr>\n",
       "      <th>1</th>\n",
       "      <td>337156</td>\n",
       "      <td>2018-11-23 10:48:25</td>\n",
       "      <td>[{\"distance\": 8887, \"price\": 400, \"eta\": 1631,...</td>\n",
       "      <td>2018-11-23</td>\n",
       "      <td>4</td>\n",
       "    </tr>\n",
       "    <tr>\n",
       "      <th>2</th>\n",
       "      <td>398930</td>\n",
       "      <td>2018-11-08 12:23:06</td>\n",
       "      <td>[{\"distance\": 8471, \"price\": 2300, \"eta\": 1284...</td>\n",
       "      <td>2018-11-08</td>\n",
       "      <td>3</td>\n",
       "    </tr>\n",
       "    <tr>\n",
       "      <th>3</th>\n",
       "      <td>196610</td>\n",
       "      <td>2018-11-27 12:11:59</td>\n",
       "      <td>[{\"distance\": 32405, \"price\": 2500, \"eta\": 477...</td>\n",
       "      <td>2018-11-27</td>\n",
       "      <td>1</td>\n",
       "    </tr>\n",
       "    <tr>\n",
       "      <th>4</th>\n",
       "      <td>302267</td>\n",
       "      <td>2018-10-18 17:22:19</td>\n",
       "      <td>[{\"distance\": 38511, \"price\": 700, \"eta\": 4715...</td>\n",
       "      <td>2018-10-18</td>\n",
       "      <td>3</td>\n",
       "    </tr>\n",
       "  </tbody>\n",
       "</table>\n",
       "</div>"
      ],
      "text/plain": [
       "      sid           plan_time  \\\n",
       "0  149233 2018-10-01 13:02:01   \n",
       "1  337156 2018-11-23 10:48:25   \n",
       "2  398930 2018-11-08 12:23:06   \n",
       "3  196610 2018-11-27 12:11:59   \n",
       "4  302267 2018-10-18 17:22:19   \n",
       "\n",
       "                                               plans plan_time_date  \\\n",
       "0  [{\"distance\": 2100, \"price\": 300, \"eta\": 1064,...     2018-10-01   \n",
       "1  [{\"distance\": 8887, \"price\": 400, \"eta\": 1631,...     2018-11-23   \n",
       "2  [{\"distance\": 8471, \"price\": 2300, \"eta\": 1284...     2018-11-08   \n",
       "3  [{\"distance\": 32405, \"price\": 2500, \"eta\": 477...     2018-11-27   \n",
       "4  [{\"distance\": 38511, \"price\": 700, \"eta\": 4715...     2018-10-18   \n",
       "\n",
       "   plan_time_dow  \n",
       "0              0  \n",
       "1              4  \n",
       "2              3  \n",
       "3              1  \n",
       "4              3  "
      ]
     },
     "execution_count": 67,
     "metadata": {},
     "output_type": "execute_result"
    }
   ],
   "source": [
    "train_plans.head()"
   ]
  },
  {
   "cell_type": "code",
   "execution_count": 68,
   "metadata": {},
   "outputs": [],
   "source": [
    "# 排除掉国庆7天以及2018-10-09和2018-11-05两天较少的请求\n",
    "tmp = train_plans.loc[((train_plans['plan_time_date'] >= datetime.date(2018,10,7)) & (train_plans['plan_time_date'] != datetime.date(2018,10,9)) & (train_plans['plan_time_date'] != datetime.date(2018,11,5)))].groupby('plan_time_date')['plan_time'].agg([('plan_time_count','count')]).reset_index()\n",
    "tmp[\"plan_time_dow\"] = pd.to_datetime(tmp[\"plan_time_date\"]).dt.weekday"
   ]
  },
  {
   "cell_type": "code",
   "execution_count": 69,
   "metadata": {},
   "outputs": [],
   "source": [
    "# datetime.date(2018,10,1)"
   ]
  },
  {
   "cell_type": "code",
   "execution_count": 70,
   "metadata": {},
   "outputs": [
    {
     "data": {
      "text/html": [
       "<div>\n",
       "<style scoped>\n",
       "    .dataframe tbody tr th:only-of-type {\n",
       "        vertical-align: middle;\n",
       "    }\n",
       "\n",
       "    .dataframe tbody tr th {\n",
       "        vertical-align: top;\n",
       "    }\n",
       "\n",
       "    .dataframe thead th {\n",
       "        text-align: right;\n",
       "    }\n",
       "</style>\n",
       "<table border=\"1\" class=\"dataframe\">\n",
       "  <thead>\n",
       "    <tr style=\"text-align: right;\">\n",
       "      <th></th>\n",
       "      <th>plan_time_date</th>\n",
       "      <th>plan_time_count</th>\n",
       "      <th>plan_time_dow</th>\n",
       "    </tr>\n",
       "  </thead>\n",
       "  <tbody>\n",
       "    <tr>\n",
       "      <th>0</th>\n",
       "      <td>2018-10-07</td>\n",
       "      <td>35914</td>\n",
       "      <td>6</td>\n",
       "    </tr>\n",
       "    <tr>\n",
       "      <th>1</th>\n",
       "      <td>2018-10-08</td>\n",
       "      <td>26010</td>\n",
       "      <td>0</td>\n",
       "    </tr>\n",
       "    <tr>\n",
       "      <th>2</th>\n",
       "      <td>2018-10-10</td>\n",
       "      <td>27093</td>\n",
       "      <td>2</td>\n",
       "    </tr>\n",
       "    <tr>\n",
       "      <th>3</th>\n",
       "      <td>2018-10-11</td>\n",
       "      <td>28942</td>\n",
       "      <td>3</td>\n",
       "    </tr>\n",
       "    <tr>\n",
       "      <th>4</th>\n",
       "      <td>2018-10-12</td>\n",
       "      <td>33917</td>\n",
       "      <td>4</td>\n",
       "    </tr>\n",
       "  </tbody>\n",
       "</table>\n",
       "</div>"
      ],
      "text/plain": [
       "  plan_time_date  plan_time_count  plan_time_dow\n",
       "0     2018-10-07            35914              6\n",
       "1     2018-10-08            26010              0\n",
       "2     2018-10-10            27093              2\n",
       "3     2018-10-11            28942              3\n",
       "4     2018-10-12            33917              4"
      ]
     },
     "execution_count": 70,
     "metadata": {},
     "output_type": "execute_result"
    }
   ],
   "source": [
    "tmp.head()"
   ]
  },
  {
   "cell_type": "markdown",
   "metadata": {},
   "source": [
    "同一星期的日期进行mean操作, 每个星期平均多少请求"
   ]
  },
  {
   "cell_type": "code",
   "execution_count": 71,
   "metadata": {},
   "outputs": [
    {
     "data": {
      "text/plain": [
       "<matplotlib.axes._subplots.AxesSubplot at 0x1d83ad04fc8>"
      ]
     },
     "execution_count": 71,
     "metadata": {},
     "output_type": "execute_result"
    },
    {
     "data": {
      "image/png": "[encoded data removed]",
      "text/plain": [
       "<Figure size 1152x576 with 2 Axes>"
      ]
     },
     "metadata": {
      "needs_background": "light"
     },
     "output_type": "display_data"
    }
   ],
   "source": [
    "plt.figure(figsize=[16,8])\n",
    "plt.subplot(121)\n",
    "tmp.groupby(\"plan_time_dow\")[\"plan_time_count\"].mean().sort_index().plot(kind=\"bar\")\n",
    "plt.xlabel(\"Day of week\")\n",
    "plt.ylabel(\"Number of appearance\")\n",
    "plt.subplot(122)\n",
    "tmp.groupby('plan_time_dow')['plan_time_count'].mean().sort_index().plot(kind = 'pie')"
   ]
  },
  {
   "cell_type": "markdown",
   "metadata": {},
   "source": [
    "### plans field"
   ]
  },
  {
   "cell_type": "code",
   "execution_count": 72,
   "metadata": {},
   "outputs": [],
   "source": [
    "# ast.literal_eval 处理抽象语法解析，在这作为对字符串类型转换。例如 字符串型的字典转换为字典，相当于eval\n",
    "train_plans[\"plans\"] = train_plans[\"plans\"].fillna(\"[]\").apply(ast.literal_eval)"
   ]
  },
  {
   "cell_type": "code",
   "execution_count": 73,
   "metadata": {},
   "outputs": [
    {
     "data": {
      "text/plain": [
       "[{'distance': 2100, 'price': 300, 'eta': 1064, 'transport_mode': 2},\n",
       " {'distance': 2577, 'price': '', 'eta': 461, 'transport_mode': 3},\n",
       " {'distance': 2577, 'price': 1300, 'eta': 461, 'transport_mode': 4},\n",
       " {'distance': 1720, 'price': '', 'eta': 518, 'transport_mode': 6},\n",
       " {'distance': 1645, 'price': '', 'eta': 1438, 'transport_mode': 5},\n",
       " {'distance': 1729, 'price': 200, 'eta': 1482, 'transport_mode': 1}]"
      ]
     },
     "execution_count": 73,
     "metadata": {},
     "output_type": "execute_result"
    }
   ],
   "source": [
    "train_plans[\"plans\"][0]"
   ]
  },
  {
   "cell_type": "code",
   "execution_count": 76,
   "metadata": {},
   "outputs": [],
   "source": [
    "def _plans_trans(df):\n",
    "    df_plans_pivot   = pd.DataFrame()\n",
    "    sids             = []\n",
    "    prices           = []\n",
    "    distances        = []\n",
    "    etas             = []\n",
    "    transport_modes  = []\n",
    "    ranks            = []   \n",
    "    plan_times       = []\n",
    "    for sid, plan_time, plans in tqdm(df[[\"sid\", \"plan_time\", \"plans\"]].values):\n",
    "        for i, plan in enumerate(plans):\n",
    "            sids.append(sid)\n",
    "            transport_modes.append(plan[\"transport_mode\"])\n",
    "            distances.append(plan[\"distance\"])\n",
    "            etas.append(plan[\"eta\"])\n",
    "            prices.append(plan[\"price\"])\n",
    "            plan_times.append(plan_time)\n",
    "            ranks.append(i) # 计划列表里排名\n",
    "    df_plans_pivot[\"sid\"]             = sids\n",
    "    df_plans_pivot['price']           = prices\n",
    "    df_plans_pivot['distance']        = distances\n",
    "    df_plans_pivot['transport_mode']  = transport_modes\n",
    "    df_plans_pivot['ranks']           = ranks\n",
    "    df_plans_pivot['plan_time']       = plan_times \n",
    "    df_plans_pivot['etas']            = etas\n",
    "    df_plans_pivot[\"price\"]           = df_plans_pivot[\"price\"].apply(lambda x: 0 if x == \"\" else float(x))\n",
    "    return df_plans_pivot\n",
    "    \n",
    "    "
   ]
  },
  {
   "cell_type": "code",
   "execution_count": 77,
   "metadata": {},
   "outputs": [
    {
     "name": "stderr",
     "output_type": "stream",
     "text": [
      "100%|█████████████████████████████████████████████████████████████████████| 1938572/1938572 [03:04<00:00, 10521.90it/s]\n"
     ]
    },
    {
     "name": "stdout",
     "output_type": "stream",
     "text": [
      "Wall time: 13min 3s\n"
     ]
    }
   ],
   "source": [
    "%%time\n",
    "plans_pivot = _plans_trans(train_plans)\n",
    "plans_pivot[\"speed\"] = plans_pivot[\"distance\"] / plans_pivot[\"etas\"]"
   ]
  },
  {
   "cell_type": "code",
   "execution_count": 78,
   "metadata": {},
   "outputs": [
    {
     "data": {
      "text/html": [
       "<div>\n",
       "<style scoped>\n",
       "    .dataframe tbody tr th:only-of-type {\n",
       "        vertical-align: middle;\n",
       "    }\n",
       "\n",
       "    .dataframe tbody tr th {\n",
       "        vertical-align: top;\n",
       "    }\n",
       "\n",
       "    .dataframe thead th {\n",
       "        text-align: right;\n",
       "    }\n",
       "</style>\n",
       "<table border=\"1\" class=\"dataframe\">\n",
       "  <thead>\n",
       "    <tr style=\"text-align: right;\">\n",
       "      <th></th>\n",
       "      <th>sid</th>\n",
       "      <th>price</th>\n",
       "      <th>distance</th>\n",
       "      <th>transport_mode</th>\n",
       "      <th>ranks</th>\n",
       "      <th>plan_time</th>\n",
       "      <th>etas</th>\n",
       "      <th>speed</th>\n",
       "    </tr>\n",
       "  </thead>\n",
       "  <tbody>\n",
       "    <tr>\n",
       "      <th>0</th>\n",
       "      <td>149233</td>\n",
       "      <td>300.0</td>\n",
       "      <td>2100</td>\n",
       "      <td>2</td>\n",
       "      <td>0</td>\n",
       "      <td>2018-10-01 13:02:01</td>\n",
       "      <td>1064</td>\n",
       "      <td>1.973684</td>\n",
       "    </tr>\n",
       "    <tr>\n",
       "      <th>1</th>\n",
       "      <td>149233</td>\n",
       "      <td>0.0</td>\n",
       "      <td>2577</td>\n",
       "      <td>3</td>\n",
       "      <td>1</td>\n",
       "      <td>2018-10-01 13:02:01</td>\n",
       "      <td>461</td>\n",
       "      <td>5.590022</td>\n",
       "    </tr>\n",
       "    <tr>\n",
       "      <th>2</th>\n",
       "      <td>149233</td>\n",
       "      <td>1300.0</td>\n",
       "      <td>2577</td>\n",
       "      <td>4</td>\n",
       "      <td>2</td>\n",
       "      <td>2018-10-01 13:02:01</td>\n",
       "      <td>461</td>\n",
       "      <td>5.590022</td>\n",
       "    </tr>\n",
       "    <tr>\n",
       "      <th>3</th>\n",
       "      <td>149233</td>\n",
       "      <td>0.0</td>\n",
       "      <td>1720</td>\n",
       "      <td>6</td>\n",
       "      <td>3</td>\n",
       "      <td>2018-10-01 13:02:01</td>\n",
       "      <td>518</td>\n",
       "      <td>3.320463</td>\n",
       "    </tr>\n",
       "    <tr>\n",
       "      <th>4</th>\n",
       "      <td>149233</td>\n",
       "      <td>0.0</td>\n",
       "      <td>1645</td>\n",
       "      <td>5</td>\n",
       "      <td>4</td>\n",
       "      <td>2018-10-01 13:02:01</td>\n",
       "      <td>1438</td>\n",
       "      <td>1.143950</td>\n",
       "    </tr>\n",
       "  </tbody>\n",
       "</table>\n",
       "</div>"
      ],
      "text/plain": [
       "      sid   price  distance  transport_mode  ranks           plan_time  etas  \\\n",
       "0  149233   300.0      2100               2      0 2018-10-01 13:02:01  1064   \n",
       "1  149233     0.0      2577               3      1 2018-10-01 13:02:01   461   \n",
       "2  149233  1300.0      2577               4      2 2018-10-01 13:02:01   461   \n",
       "3  149233     0.0      1720               6      3 2018-10-01 13:02:01   518   \n",
       "4  149233     0.0      1645               5      4 2018-10-01 13:02:01  1438   \n",
       "\n",
       "      speed  \n",
       "0  1.973684  \n",
       "1  5.590022  \n",
       "2  5.590022  \n",
       "3  3.320463  \n",
       "4  1.143950  "
      ]
     },
     "execution_count": 78,
     "metadata": {},
     "output_type": "execute_result"
    }
   ],
   "source": [
    "plans_pivot.head()"
   ]
  },
  {
   "cell_type": "markdown",
   "metadata": {},
   "source": [
    "#### transport_mode\n",
    "- 选择交通方式3最频繁，其次是4,1,3。\n",
    "- 交通方式8和11的频率最低。"
   ]
  },
  {
   "cell_type": "code",
   "execution_count": 79,
   "metadata": {},
   "outputs": [
    {
     "data": {
      "text/plain": [
       "<matplotlib.axes._subplots.AxesSubplot at 0x1d67bb9d508>"
      ]
     },
     "execution_count": 79,
     "metadata": {},
     "output_type": "execute_result"
    },
    {
     "data": {
      "image/png": "[encoded data removed]",
      "text/plain": [
       "<Figure size 1152x576 with 2 Axes>"
      ]
     },
     "metadata": {
      "needs_background": "light"
     },
     "output_type": "display_data"
    }
   ],
   "source": [
    "plt.figure(figsize=[16,8])\n",
    "plt.subplot(1, 2, 1)\n",
    "plans_pivot[\"transport_mode\"].value_counts().sort_index().plot(kind=\"bar\")\n",
    "plt.xlabel('transport_mode')\n",
    "plt.ylabel('Number of appeareance')\n",
    "plt.subplot(1, 2, 2)\n",
    "plans_pivot['transport_mode'].value_counts().sort_index().plot(kind = 'pie') "
   ]
  },
  {
   "cell_type": "markdown",
   "metadata": {},
   "source": [
    "#### distance\n",
    "- 距离变化很大，最小距离为1，最大距离为225000，这个差距非常大。\n",
    "- 大约95％的距离小于50000"
   ]
  },
  {
   "cell_type": "code",
   "execution_count": 81,
   "metadata": {},
   "outputs": [
    {
     "data": {
      "text/plain": [
       "count    8.906188e+06\n",
       "mean     1.618052e+04\n",
       "std      1.580115e+04\n",
       "min      1.000000e+00\n",
       "0%       1.000000e+00\n",
       "5%       8.970000e+02\n",
       "10%      1.708000e+03\n",
       "20%      3.400000e+03\n",
       "30%      5.430000e+03\n",
       "40%      8.134000e+03\n",
       "50%      1.134500e+04\n",
       "60%      1.541500e+04\n",
       "70%      2.023300e+04\n",
       "80%      2.666600e+04\n",
       "90%      3.732500e+04\n",
       "95%      4.739700e+04\n",
       "100%     2.258640e+05\n",
       "max      2.258640e+05\n",
       "Name: distance, dtype: float64"
      ]
     },
     "execution_count": 81,
     "metadata": {},
     "output_type": "execute_result"
    }
   ],
   "source": [
    "plans_pivot[\"distance\"].describe(percentiles = [0,0.05,0.1,0.2,0.3,0.4,0.5,0.6,0.7,0.8,0.9,0.95,1])"
   ]
  },
  {
   "cell_type": "code",
   "execution_count": 82,
   "metadata": {},
   "outputs": [
    {
     "data": {
      "text/plain": [
       "Text(0.5, 0, 'distance')"
      ]
     },
     "execution_count": 82,
     "metadata": {},
     "output_type": "execute_result"
    },
    {
     "data": {
      "image/png": "[encoded data removed]",
      "text/plain": [
       "<Figure size 1152x576 with 1 Axes>"
      ]
     },
     "metadata": {
      "needs_background": "light"
     },
     "output_type": "display_data"
    }
   ],
   "source": [
    "# boxplot箱形图,显示一组数据分散情况资料的统计图\n",
    "# 参考 https://blog.csdn.net/qq_39949963/article/details/79387486\n",
    "plt.figure(figsize=[16,8])\n",
    "sns.boxplot(plans_pivot[\"distance\"])\n",
    "plt.xlabel(\"distance\")"
   ]
  },
  {
   "cell_type": "markdown",
   "metadata": {},
   "source": [
    "#### etas 预计到达时间\n",
    "- eta值相差很大，etas的最小值为1，最大值为72992\n",
    "- 大约95％的etas小于6500，"
   ]
  },
  {
   "cell_type": "code",
   "execution_count": 84,
   "metadata": {},
   "outputs": [
    {
     "data": {
      "text/plain": [
       "count    8.906188e+06\n",
       "mean     2.709388e+03\n",
       "std      1.957669e+03\n",
       "min      1.000000e+00\n",
       "0%       1.000000e+00\n",
       "5%       3.390000e+02\n",
       "10%      6.430000e+02\n",
       "20%      1.140000e+03\n",
       "30%      1.556000e+03\n",
       "40%      1.951000e+03\n",
       "50%      2.348000e+03\n",
       "60%      2.767000e+03\n",
       "70%      3.263000e+03\n",
       "80%      3.950000e+03\n",
       "90%      5.152000e+03\n",
       "95%      6.405000e+03\n",
       "100%     7.299200e+04\n",
       "max      7.299200e+04\n",
       "Name: etas, dtype: float64"
      ]
     },
     "execution_count": 84,
     "metadata": {},
     "output_type": "execute_result"
    }
   ],
   "source": [
    "plans_pivot['etas'].describe(percentiles = [0,0.05,0.1,0.2,0.3,0.4,0.5,0.6,0.7,0.8,0.9,0.95,1])"
   ]
  },
  {
   "cell_type": "code",
   "execution_count": 85,
   "metadata": {},
   "outputs": [
    {
     "data": {
      "text/plain": [
       "Text(0.5, 0, 'etas')"
      ]
     },
     "execution_count": 85,
     "metadata": {},
     "output_type": "execute_result"
    },
    {
     "data": {
      "image/png": "[encoded data removed]",
      "text/plain": [
       "<Figure size 1152x576 with 1 Axes>"
      ]
     },
     "metadata": {
      "needs_background": "light"
     },
     "output_type": "display_data"
    }
   ],
   "source": [
    "plt.figure(figsize=[16,8]) \n",
    "sns.boxplot(plans_pivot['etas'])\n",
    "plt.xlabel('etas')"
   ]
  },
  {
   "cell_type": "markdown",
   "metadata": {},
   "source": [
    "#### 推荐运输方式\n",
    "- 大多数计划建议使用4或5或6个不同的计划，有些仅建议1个计划，占约1.8％。"
   ]
  },
  {
   "cell_type": "code",
   "execution_count": 86,
   "metadata": {},
   "outputs": [
    {
     "data": {
      "text/html": [
       "<div>\n",
       "<style scoped>\n",
       "    .dataframe tbody tr th:only-of-type {\n",
       "        vertical-align: middle;\n",
       "    }\n",
       "\n",
       "    .dataframe tbody tr th {\n",
       "        vertical-align: top;\n",
       "    }\n",
       "\n",
       "    .dataframe thead th {\n",
       "        text-align: right;\n",
       "    }\n",
       "</style>\n",
       "<table border=\"1\" class=\"dataframe\">\n",
       "  <thead>\n",
       "    <tr style=\"text-align: right;\">\n",
       "      <th></th>\n",
       "      <th>sid</th>\n",
       "      <th>price</th>\n",
       "      <th>distance</th>\n",
       "      <th>transport_mode</th>\n",
       "      <th>ranks</th>\n",
       "      <th>plan_time</th>\n",
       "      <th>etas</th>\n",
       "      <th>speed</th>\n",
       "    </tr>\n",
       "  </thead>\n",
       "  <tbody>\n",
       "    <tr>\n",
       "      <th>0</th>\n",
       "      <td>149233</td>\n",
       "      <td>300.0</td>\n",
       "      <td>2100</td>\n",
       "      <td>2</td>\n",
       "      <td>0</td>\n",
       "      <td>2018-10-01 13:02:01</td>\n",
       "      <td>1064</td>\n",
       "      <td>1.973684</td>\n",
       "    </tr>\n",
       "    <tr>\n",
       "      <th>1</th>\n",
       "      <td>149233</td>\n",
       "      <td>0.0</td>\n",
       "      <td>2577</td>\n",
       "      <td>3</td>\n",
       "      <td>1</td>\n",
       "      <td>2018-10-01 13:02:01</td>\n",
       "      <td>461</td>\n",
       "      <td>5.590022</td>\n",
       "    </tr>\n",
       "    <tr>\n",
       "      <th>2</th>\n",
       "      <td>149233</td>\n",
       "      <td>1300.0</td>\n",
       "      <td>2577</td>\n",
       "      <td>4</td>\n",
       "      <td>2</td>\n",
       "      <td>2018-10-01 13:02:01</td>\n",
       "      <td>461</td>\n",
       "      <td>5.590022</td>\n",
       "    </tr>\n",
       "    <tr>\n",
       "      <th>3</th>\n",
       "      <td>149233</td>\n",
       "      <td>0.0</td>\n",
       "      <td>1720</td>\n",
       "      <td>6</td>\n",
       "      <td>3</td>\n",
       "      <td>2018-10-01 13:02:01</td>\n",
       "      <td>518</td>\n",
       "      <td>3.320463</td>\n",
       "    </tr>\n",
       "    <tr>\n",
       "      <th>4</th>\n",
       "      <td>149233</td>\n",
       "      <td>0.0</td>\n",
       "      <td>1645</td>\n",
       "      <td>5</td>\n",
       "      <td>4</td>\n",
       "      <td>2018-10-01 13:02:01</td>\n",
       "      <td>1438</td>\n",
       "      <td>1.143950</td>\n",
       "    </tr>\n",
       "  </tbody>\n",
       "</table>\n",
       "</div>"
      ],
      "text/plain": [
       "      sid   price  distance  transport_mode  ranks           plan_time  etas  \\\n",
       "0  149233   300.0      2100               2      0 2018-10-01 13:02:01  1064   \n",
       "1  149233     0.0      2577               3      1 2018-10-01 13:02:01   461   \n",
       "2  149233  1300.0      2577               4      2 2018-10-01 13:02:01   461   \n",
       "3  149233     0.0      1720               6      3 2018-10-01 13:02:01   518   \n",
       "4  149233     0.0      1645               5      4 2018-10-01 13:02:01  1438   \n",
       "\n",
       "      speed  \n",
       "0  1.973684  \n",
       "1  5.590022  \n",
       "2  5.590022  \n",
       "3  3.320463  \n",
       "4  1.143950  "
      ]
     },
     "execution_count": 86,
     "metadata": {},
     "output_type": "execute_result"
    }
   ],
   "source": [
    "plans_pivot.head()"
   ]
  },
  {
   "cell_type": "code",
   "execution_count": 91,
   "metadata": {},
   "outputs": [],
   "source": [
    "tmp = plans_pivot.groupby(\"sid\")[\"ranks\"].max().to_frame()"
   ]
  },
  {
   "cell_type": "code",
   "execution_count": 92,
   "metadata": {},
   "outputs": [
    {
     "data": {
      "text/plain": [
       "5    0.330529\n",
       "4    0.268247\n",
       "6    0.201649\n",
       "3    0.165452\n",
       "7    0.019170\n",
       "2    0.013154\n",
       "1    0.001796\n",
       "8    0.000003\n",
       "Name: ranks, dtype: float64"
      ]
     },
     "execution_count": 92,
     "metadata": {},
     "output_type": "execute_result"
    }
   ],
   "source": [
    "# 每个会话sid生成的运输计划个数\n",
    "tmp[\"ranks\"] = tmp[\"ranks\"] + 1\n",
    "tmp[\"ranks\"].value_counts(normalize=True) # 以百分比的形式显示"
   ]
  },
  {
   "cell_type": "code",
   "execution_count": 93,
   "metadata": {},
   "outputs": [
    {
     "data": {
      "text/plain": [
       "<matplotlib.axes._subplots.AxesSubplot at 0x1d7da9083c8>"
      ]
     },
     "execution_count": 93,
     "metadata": {},
     "output_type": "execute_result"
    },
    {
     "data": {
      "image/png": "[encoded data removed]",
      "text/plain": [
       "<Figure size 1152x576 with 2 Axes>"
      ]
     },
     "metadata": {
      "needs_background": "light"
     },
     "output_type": "display_data"
    }
   ],
   "source": [
    "plt.figure(figsize=[16,8]) \n",
    "plt.subplot(1, 2, 1)\n",
    "tmp['ranks'].value_counts().sort_index().plot(kind = 'bar')\n",
    "plt.xlabel('Number of recommeneded transport mode')\n",
    "plt.ylabel('Number of appereance')\n",
    "plt.subplot(1, 2, 2)\n",
    "tmp['ranks'].value_counts().sort_index().plot(kind = 'pie') "
   ]
  },
  {
   "cell_type": "markdown",
   "metadata": {},
   "source": [
    "推送计划最多的数量为5个左右"
   ]
  },
  {
   "cell_type": "markdown",
   "metadata": {},
   "source": [
    "## train_queries data set\n",
    "### sid filed\n",
    "1. Sid is unique"
   ]
  },
  {
   "cell_type": "code",
   "execution_count": 94,
   "metadata": {},
   "outputs": [
    {
     "data": {
      "text/html": [
       "<div>\n",
       "<style scoped>\n",
       "    .dataframe tbody tr th:only-of-type {\n",
       "        vertical-align: middle;\n",
       "    }\n",
       "\n",
       "    .dataframe tbody tr th {\n",
       "        vertical-align: top;\n",
       "    }\n",
       "\n",
       "    .dataframe thead th {\n",
       "        text-align: right;\n",
       "    }\n",
       "</style>\n",
       "<table border=\"1\" class=\"dataframe\">\n",
       "  <thead>\n",
       "    <tr style=\"text-align: right;\">\n",
       "      <th></th>\n",
       "      <th>sid</th>\n",
       "      <th>pid</th>\n",
       "      <th>req_time</th>\n",
       "      <th>o</th>\n",
       "      <th>d</th>\n",
       "    </tr>\n",
       "  </thead>\n",
       "  <tbody>\n",
       "    <tr>\n",
       "      <th>0</th>\n",
       "      <td>419087</td>\n",
       "      <td>22813.0</td>\n",
       "      <td>2018-10-17 10:17:11</td>\n",
       "      <td>116.34,39.99</td>\n",
       "      <td>116.37,39.86</td>\n",
       "    </tr>\n",
       "    <tr>\n",
       "      <th>1</th>\n",
       "      <td>481938</td>\n",
       "      <td>NaN</td>\n",
       "      <td>2018-10-13 15:50:15</td>\n",
       "      <td>116.43,39.94</td>\n",
       "      <td>116.46,39.95</td>\n",
       "    </tr>\n",
       "    <tr>\n",
       "      <th>2</th>\n",
       "      <td>441201</td>\n",
       "      <td>34393.0</td>\n",
       "      <td>2018-10-13 16:15:21</td>\n",
       "      <td>116.28,40.01</td>\n",
       "      <td>116.39,39.99</td>\n",
       "    </tr>\n",
       "    <tr>\n",
       "      <th>3</th>\n",
       "      <td>347266</td>\n",
       "      <td>NaN</td>\n",
       "      <td>2018-10-22 13:26:04</td>\n",
       "      <td>116.31,39.51</td>\n",
       "      <td>116.32,39.72</td>\n",
       "    </tr>\n",
       "    <tr>\n",
       "      <th>4</th>\n",
       "      <td>206269</td>\n",
       "      <td>NaN</td>\n",
       "      <td>2018-11-08 10:27:23</td>\n",
       "      <td>116.33,39.89</td>\n",
       "      <td>116.59,39.76</td>\n",
       "    </tr>\n",
       "  </tbody>\n",
       "</table>\n",
       "</div>"
      ],
      "text/plain": [
       "      sid      pid            req_time             o             d\n",
       "0  419087  22813.0 2018-10-17 10:17:11  116.34,39.99  116.37,39.86\n",
       "1  481938      NaN 2018-10-13 15:50:15  116.43,39.94  116.46,39.95\n",
       "2  441201  34393.0 2018-10-13 16:15:21  116.28,40.01  116.39,39.99\n",
       "3  347266      NaN 2018-10-22 13:26:04  116.31,39.51  116.32,39.72\n",
       "4  206269      NaN 2018-11-08 10:27:23  116.33,39.89  116.59,39.76"
      ]
     },
     "execution_count": 94,
     "metadata": {},
     "output_type": "execute_result"
    }
   ],
   "source": [
    "train_queries.head()"
   ]
  },
  {
   "cell_type": "code",
   "execution_count": 95,
   "metadata": {},
   "outputs": [
    {
     "data": {
      "text/plain": [
       "2047       1\n",
       "1669509    1\n",
       "1665415    1\n",
       "1642888    1\n",
       "1644937    1\n",
       "          ..\n",
       "582729     1\n",
       "588874     1\n",
       "586827     1\n",
       "576588     1\n",
       "0          1\n",
       "Name: sid, Length: 2000000, dtype: int64"
      ]
     },
     "execution_count": 95,
     "metadata": {},
     "output_type": "execute_result"
    }
   ],
   "source": [
    "train_queries[\"sid\"].value_counts()"
   ]
  },
  {
   "cell_type": "markdown",
   "metadata": {},
   "source": [
    "### pid filed\n",
    "1.有676803个缺失的pid值，占33.84％；  \n",
    "2.最常见的pid是8645，约占1.125％。   \n",
    "3.大约36.4％的pid仅搜索一次。   "
   ]
  },
  {
   "cell_type": "code",
   "execution_count": 96,
   "metadata": {},
   "outputs": [],
   "source": [
    "# 缺失值填充为-1\n",
    "train_queries[\"pid\"].fillna(-1 ,inplace=True)"
   ]
  },
  {
   "cell_type": "code",
   "execution_count": 97,
   "metadata": {},
   "outputs": [
    {
     "data": {
      "text/plain": [
       "-1.0         676803\n",
       " 8645.0       22503\n",
       " 51133.0      18588\n",
       " 11803.0      13858\n",
       " 29160.0      10314\n",
       "              ...  \n",
       " 96188.0          1\n",
       " 23856.0          1\n",
       " 6012.0           1\n",
       " 23852.0          1\n",
       " 131068.0         1\n",
       "Name: pid, Length: 97372, dtype: int64"
      ]
     },
     "execution_count": 97,
     "metadata": {},
     "output_type": "execute_result"
    }
   ],
   "source": [
    "train_queries['pid'].value_counts()"
   ]
  },
  {
   "cell_type": "code",
   "execution_count": 98,
   "metadata": {},
   "outputs": [
    {
     "data": {
      "text/plain": [
       "-1.0         3.384015e-01\n",
       " 8645.0      1.125150e-02\n",
       " 51133.0     9.294000e-03\n",
       " 11803.0     6.929000e-03\n",
       " 29160.0     5.157000e-03\n",
       "                 ...     \n",
       " 96188.0     5.000000e-07\n",
       " 23856.0     5.000000e-07\n",
       " 6012.0      5.000000e-07\n",
       " 23852.0     5.000000e-07\n",
       " 131068.0    5.000000e-07\n",
       "Name: pid, Length: 97372, dtype: float64"
      ]
     },
     "execution_count": 98,
     "metadata": {},
     "output_type": "execute_result"
    }
   ],
   "source": [
    "train_queries[\"pid\"].value_counts(normalize=True)"
   ]
  },
  {
   "cell_type": "code",
   "execution_count": 99,
   "metadata": {},
   "outputs": [
    {
     "data": {
      "text/plain": [
       "Text(0, 0.5, 'Number of appearance')"
      ]
     },
     "execution_count": 99,
     "metadata": {},
     "output_type": "execute_result"
    },
    {
     "data": {
      "image/png": "[encoded data removed]",
      "text/plain": [
       "<Figure size 1152x576 with 1 Axes>"
      ]
     },
     "metadata": {
      "needs_background": "light"
     },
     "output_type": "display_data"
    }
   ],
   "source": [
    "plt.figure(figsize=[16,8])\n",
    "train_queries['pid'].fillna(-1).value_counts(normalize = True).sort_index().plot()\n",
    "plt.xlim(xmin=-100)\n",
    "plt.xlabel(\"pid\")\n",
    "plt.ylabel(\"Number of appearance\")"
   ]
  },
  {
   "cell_type": "code",
   "execution_count": 101,
   "metadata": {},
   "outputs": [
    {
     "data": {
      "text/plain": [
       "1       0.363914\n",
       "2       0.152857\n",
       "3       0.088793\n",
       "4       0.060151\n",
       "5       0.043452\n",
       "          ...   \n",
       "564     0.000010\n",
       "474     0.000010\n",
       "922     0.000010\n",
       "1370    0.000010\n",
       "1279    0.000010\n",
       "Name: pid, Length: 642, dtype: float64"
      ]
     },
     "execution_count": 101,
     "metadata": {},
     "output_type": "execute_result"
    }
   ],
   "source": [
    "# 大约36.4％的pid仅搜索一次\n",
    "train_queries['pid'].value_counts().value_counts(normalize = True)"
   ]
  },
  {
   "cell_type": "markdown",
   "metadata": {},
   "source": [
    "### o field\n",
    "1.我们有14807个不同的o值；  \n",
    "2.最常见的o是113.32,23.13，没有o可以占到1％以上。   \n",
    "3.在不同的省份，它们都有热门和冷门的地方。  "
   ]
  },
  {
   "cell_type": "code",
   "execution_count": 102,
   "metadata": {},
   "outputs": [],
   "source": [
    "train_queries[\"o\"].fillna(-1, inplace=True)"
   ]
  },
  {
   "cell_type": "code",
   "execution_count": 103,
   "metadata": {},
   "outputs": [
    {
     "data": {
      "text/plain": [
       "14807"
      ]
     },
     "execution_count": 103,
     "metadata": {},
     "output_type": "execute_result"
    }
   ],
   "source": [
    "train_queries[\"o\"].nunique()"
   ]
  },
  {
   "cell_type": "code",
   "execution_count": 104,
   "metadata": {},
   "outputs": [
    {
     "data": {
      "text/plain": [
       "113.32,23.13    10442\n",
       "121.48,31.24     9940\n",
       "121.45,31.25     9142\n",
       "121.47,31.24     8527\n",
       "113.25,23.15     8195\n",
       "                ...  \n",
       "121.51,31.60        1\n",
       "116.66,40.65        1\n",
       "113.50,23.63        1\n",
       "116.95,40.18        1\n",
       "121.67,30.96        1\n",
       "Name: o, Length: 14807, dtype: int64"
      ]
     },
     "execution_count": 104,
     "metadata": {},
     "output_type": "execute_result"
    }
   ],
   "source": [
    "train_queries[\"o\"].value_counts()"
   ]
  },
  {
   "cell_type": "code",
   "execution_count": 105,
   "metadata": {},
   "outputs": [
    {
     "data": {
      "text/plain": [
       "113.32,23.13    5.221000e-03\n",
       "121.48,31.24    4.970000e-03\n",
       "121.45,31.25    4.571000e-03\n",
       "121.47,31.24    4.263500e-03\n",
       "113.25,23.15    4.097500e-03\n",
       "                    ...     \n",
       "121.51,31.60    5.000000e-07\n",
       "116.66,40.65    5.000000e-07\n",
       "113.50,23.63    5.000000e-07\n",
       "116.95,40.18    5.000000e-07\n",
       "121.67,30.96    5.000000e-07\n",
       "Name: o, Length: 14807, dtype: float64"
      ]
     },
     "execution_count": 105,
     "metadata": {},
     "output_type": "execute_result"
    }
   ],
   "source": [
    "train_queries['o'].value_counts(normalize = True)"
   ]
  },
  {
   "cell_type": "code",
   "execution_count": 106,
   "metadata": {},
   "outputs": [
    {
     "data": {
      "text/plain": [
       "Text(0, 0.5, 'Percentage of apperance')"
      ]
     },
     "execution_count": 106,
     "metadata": {},
     "output_type": "execute_result"
    },
    {
     "data": {
      "image/png": "[encoded data removed]",
      "text/plain": [
       "<Figure size 1152x576 with 2 Axes>"
      ]
     },
     "metadata": {
      "needs_background": "light"
     },
     "output_type": "display_data"
    }
   ],
   "source": [
    "plt.figure(figsize=[16,8]) \n",
    "plt.subplot(1, 2, 1)\n",
    "train_queries['o'].value_counts().sort_index().plot()\n",
    "plt.xlabel('o')\n",
    "plt.ylabel('Number of apperance')\n",
    "plt.subplot(1, 2, 2)\n",
    "train_queries['o'].value_counts(normalize = True).sort_index().plot()  \n",
    "plt.xlabel('o')\n",
    "plt.ylabel('Percentage of apperance')"
   ]
  },
  {
   "cell_type": "markdown",
   "metadata": {},
   "source": [
    "### d field\n",
    "1.共13445个不同的o值；   \n",
    "2.最频繁的d是121.32,31.20，除121.32,31.20外，没有其他d可以占到1％以上。   \n",
    "3.在不同的省份，它们都有热门和冷门的地方。 "
   ]
  },
  {
   "cell_type": "code",
   "execution_count": 107,
   "metadata": {},
   "outputs": [
    {
     "data": {
      "text/plain": [
       "13445"
      ]
     },
     "execution_count": 107,
     "metadata": {},
     "output_type": "execute_result"
    }
   ],
   "source": [
    "train_queries['d'].fillna(-1,inplace = True)  \n",
    "train_queries['d'].nunique()"
   ]
  },
  {
   "cell_type": "code",
   "execution_count": 108,
   "metadata": {},
   "outputs": [
    {
     "data": {
      "text/plain": [
       "121.32,31.20    23088\n",
       "116.32,39.89    16503\n",
       "113.26,22.99    14951\n",
       "121.45,31.25    14384\n",
       "116.37,39.86    13124\n",
       "                ...  \n",
       "115.99,39.79        1\n",
       "116.78,39.72        1\n",
       "113.63,23.29        1\n",
       "116.47,39.69        1\n",
       "113.69,23.26        1\n",
       "Name: d, Length: 13445, dtype: int64"
      ]
     },
     "execution_count": 108,
     "metadata": {},
     "output_type": "execute_result"
    }
   ],
   "source": [
    "train_queries['d'].value_counts()"
   ]
  },
  {
   "cell_type": "code",
   "execution_count": 109,
   "metadata": {},
   "outputs": [
    {
     "data": {
      "text/plain": [
       "121.32,31.20    1.154400e-02\n",
       "116.32,39.89    8.251500e-03\n",
       "113.26,22.99    7.475500e-03\n",
       "121.45,31.25    7.192000e-03\n",
       "116.37,39.86    6.562000e-03\n",
       "                    ...     \n",
       "115.99,39.79    5.000000e-07\n",
       "116.78,39.72    5.000000e-07\n",
       "113.63,23.29    5.000000e-07\n",
       "116.47,39.69    5.000000e-07\n",
       "113.69,23.26    5.000000e-07\n",
       "Name: d, Length: 13445, dtype: float64"
      ]
     },
     "execution_count": 109,
     "metadata": {},
     "output_type": "execute_result"
    }
   ],
   "source": [
    "train_queries['d'].value_counts(normalize = True)"
   ]
  },
  {
   "cell_type": "code",
   "execution_count": 110,
   "metadata": {},
   "outputs": [
    {
     "data": {
      "text/plain": [
       "Text(0, 0.5, 'Percentage of apperance')"
      ]
     },
     "execution_count": 110,
     "metadata": {},
     "output_type": "execute_result"
    },
    {
     "data": {
      "image/png": "[encoded data removed]",
      "text/plain": [
       "<Figure size 1152x576 with 2 Axes>"
      ]
     },
     "metadata": {
      "needs_background": "light"
     },
     "output_type": "display_data"
    }
   ],
   "source": [
    "plt.figure(figsize=[16,8]) \n",
    "plt.subplot(1, 2, 1)\n",
    "train_queries['d'].value_counts().sort_index().plot()\n",
    "plt.xlabel('d')\n",
    "plt.ylabel('Number of apperance')\n",
    "plt.subplot(1, 2, 2)\n",
    "train_queries['d'].value_counts(normalize = True).sort_index().plot()  \n",
    "plt.xlabel('d')\n",
    "plt.ylabel('Percentage of apperance')"
   ]
  },
  {
   "cell_type": "markdown",
   "metadata": {},
   "source": [
    "### req_time filed\n",
    "1.请求数量每天都在变化，有两天2018-10-09和2018-11-05的请求时间少于7000次，其他几天至少有20000+次请求；   \n",
    "2.在2018-10-01至2018-10-07之间有更多请求，特别是在国庆节期间，尤其是在2018-10-01和2018-10-03。   \n",
    "3.每个工作日的分配是不同的，看起来周五，周六和周日有更多要求。"
   ]
  },
  {
   "cell_type": "code",
   "execution_count": 111,
   "metadata": {},
   "outputs": [],
   "source": [
    "train_queries['req_time']      = pd.to_datetime(train_queries['req_time'])\n",
    "train_queries['req_time_date'] = train_queries['req_time'].dt.date\n",
    "train_queries['req_time_dow'] = train_queries['req_time'].dt.weekday"
   ]
  },
  {
   "cell_type": "code",
   "execution_count": 113,
   "metadata": {},
   "outputs": [
    {
     "data": {
      "text/plain": [
       "2018-10-09     6596\n",
       "2018-11-05     6897\n",
       "2018-10-15    21165\n",
       "2018-11-30    25381\n",
       "2018-10-08    27068\n",
       "2018-11-12    27108\n",
       "2018-11-28    27870\n",
       "2018-11-13    27887\n",
       "2018-10-10    28102\n",
       "2018-11-14    28217\n",
       "2018-11-27    28232\n",
       "2018-11-08    28789\n",
       "2018-11-06    28861\n",
       "2018-11-15    28901\n",
       "2018-11-29    28927\n",
       "2018-11-19    28992\n",
       "2018-11-26    29047\n",
       "2018-11-07    29299\n",
       "2018-10-22    29808\n",
       "2018-10-23    29890\n",
       "2018-10-11    29976\n",
       "2018-10-30    30258\n",
       "2018-10-18    30346\n",
       "2018-10-29    30398\n",
       "2018-11-20    30407\n",
       "2018-10-24    30535\n",
       "2018-10-16    30553\n",
       "2018-11-21    30763\n",
       "2018-10-25    30828\n",
       "2018-11-01    30947\n",
       "2018-10-17    30964\n",
       "2018-10-31    30992\n",
       "2018-11-22    32000\n",
       "2018-10-04    32302\n",
       "2018-11-11    33548\n",
       "2018-11-02    34665\n",
       "2018-11-16    34875\n",
       "2018-10-12    35089\n",
       "2018-10-14    35569\n",
       "2018-11-09    35586\n",
       "2018-11-04    35843\n",
       "2018-11-18    36209\n",
       "2018-10-19    36467\n",
       "2018-11-25    36765\n",
       "2018-10-26    37046\n",
       "2018-10-07    37048\n",
       "2018-11-23    37570\n",
       "2018-10-21    38039\n",
       "2018-10-28    38332\n",
       "2018-11-10    39808\n",
       "2018-11-03    40233\n",
       "2018-10-13    40797\n",
       "2018-11-17    41182\n",
       "2018-10-20    42639\n",
       "2018-10-06    42676\n",
       "2018-11-24    43651\n",
       "2018-10-27    45208\n",
       "2018-10-05    47236\n",
       "2018-10-03    62222\n",
       "2018-10-01    63391\n",
       "Name: req_time_date, dtype: int64"
      ]
     },
     "execution_count": 113,
     "metadata": {},
     "output_type": "execute_result"
    }
   ],
   "source": [
    "train_queries['req_time_date'].value_counts().sort_values()"
   ]
  },
  {
   "cell_type": "code",
   "execution_count": 114,
   "metadata": {},
   "outputs": [
    {
     "data": {
      "text/plain": [
       "Text(0, 0.5, 'Number of appeareance')"
      ]
     },
     "execution_count": 114,
     "metadata": {},
     "output_type": "execute_result"
    },
    {
     "data": {
      "image/png": "[encoded data removed]",
      "text/plain": [
       "<Figure size 1152x576 with 1 Axes>"
      ]
     },
     "metadata": {
      "needs_background": "light"
     },
     "output_type": "display_data"
    }
   ],
   "source": [
    "plt.figure(figsize=[16,8]) \n",
    "train_queries['req_time_date'].value_counts().sort_index().plot(kind = 'bar')\n",
    "plt.xlabel('req_time')\n",
    "plt.ylabel('Number of appeareance') "
   ]
  },
  {
   "cell_type": "code",
   "execution_count": 115,
   "metadata": {},
   "outputs": [
    {
     "data": {
      "text/plain": [
       "<matplotlib.axes._subplots.AxesSubplot at 0x1d7abc68d88>"
      ]
     },
     "execution_count": 115,
     "metadata": {},
     "output_type": "execute_result"
    },
    {
     "data": {
      "image/png": "[encoded data removed]",
      "text/plain": [
       "<Figure size 1152x576 with 2 Axes>"
      ]
     },
     "metadata": {
      "needs_background": "light"
     },
     "output_type": "display_data"
    }
   ],
   "source": [
    "plt.figure(figsize=[16,8]) \n",
    "plt.subplot(1, 2, 1)\n",
    "train_queries['req_time_dow'].value_counts().sort_index().plot(kind = 'bar')\n",
    "plt.xlabel('Day of Week')\n",
    "plt.ylabel('Number of appeareance')\n",
    "plt.subplot(1, 2, 2)\n",
    "train_queries['req_time_dow'].value_counts().sort_index().plot(kind = 'pie') "
   ]
  },
  {
   "cell_type": "code",
   "execution_count": 118,
   "metadata": {},
   "outputs": [],
   "source": [
    "tmp = train_queries.loc[((train_queries['req_time_date'] >= datetime.date(2018,10,7)) & (train_queries['req_time_date'] != datetime.date(2018,10,9)) & (train_queries['req_time_date'] != datetime.date(2018,11,5)))].groupby('req_time_date')['req_time'].agg([('req_time_count','count')]).reset_index()\n",
    "tmp['req_time_dow'] = pd.to_datetime(tmp['req_time_date']).dt.weekday"
   ]
  },
  {
   "cell_type": "markdown",
   "metadata": {},
   "source": [
    "以天为单位，当天请求的总数"
   ]
  },
  {
   "cell_type": "code",
   "execution_count": 119,
   "metadata": {},
   "outputs": [
    {
     "data": {
      "text/plain": [
       "<matplotlib.axes._subplots.AxesSubplot at 0x1d769c01bc8>"
      ]
     },
     "execution_count": 119,
     "metadata": {},
     "output_type": "execute_result"
    },
    {
     "data": {
      "image/png": "[encoded data removed]",
      "text/plain": [
       "<Figure size 1152x576 with 2 Axes>"
      ]
     },
     "metadata": {
      "needs_background": "light"
     },
     "output_type": "display_data"
    }
   ],
   "source": [
    "plt.figure(figsize=[16,8]) \n",
    "plt.subplot(121)\n",
    "tmp.groupby('req_time_dow')['req_time_count'].mean().sort_index().plot(kind = 'bar')\n",
    "plt.xlabel('Day of Week')\n",
    "plt.ylabel('Number of appeareance')\n",
    "plt.subplot(122)\n",
    "tmp.groupby('req_time_dow')['req_time_count'].mean().sort_index().plot(kind = 'pie')"
   ]
  },
  {
   "cell_type": "markdown",
   "metadata": {},
   "source": [
    "星期几的平均请求数量"
   ]
  },
  {
   "cell_type": "markdown",
   "metadata": {},
   "source": [
    "## train_clicks data set\n",
    "### sid filed\n",
    "1. Sid is unique"
   ]
  },
  {
   "cell_type": "code",
   "execution_count": 120,
   "metadata": {},
   "outputs": [
    {
     "data": {
      "text/html": [
       "<div>\n",
       "<style scoped>\n",
       "    .dataframe tbody tr th:only-of-type {\n",
       "        vertical-align: middle;\n",
       "    }\n",
       "\n",
       "    .dataframe tbody tr th {\n",
       "        vertical-align: top;\n",
       "    }\n",
       "\n",
       "    .dataframe thead th {\n",
       "        text-align: right;\n",
       "    }\n",
       "</style>\n",
       "<table border=\"1\" class=\"dataframe\">\n",
       "  <thead>\n",
       "    <tr style=\"text-align: right;\">\n",
       "      <th></th>\n",
       "      <th>sid</th>\n",
       "      <th>click_time</th>\n",
       "      <th>click_mode</th>\n",
       "    </tr>\n",
       "  </thead>\n",
       "  <tbody>\n",
       "    <tr>\n",
       "      <th>0</th>\n",
       "      <td>175043</td>\n",
       "      <td>2018-10-14 10:35:07</td>\n",
       "      <td>7</td>\n",
       "    </tr>\n",
       "    <tr>\n",
       "      <th>1</th>\n",
       "      <td>414568</td>\n",
       "      <td>2018-10-20 04:18:48</td>\n",
       "      <td>2</td>\n",
       "    </tr>\n",
       "    <tr>\n",
       "      <th>2</th>\n",
       "      <td>314669</td>\n",
       "      <td>2018-10-26 16:53:04</td>\n",
       "      <td>2</td>\n",
       "    </tr>\n",
       "    <tr>\n",
       "      <th>3</th>\n",
       "      <td>117837</td>\n",
       "      <td>2018-10-03 18:48:02</td>\n",
       "      <td>7</td>\n",
       "    </tr>\n",
       "    <tr>\n",
       "      <th>4</th>\n",
       "      <td>474691</td>\n",
       "      <td>2018-11-01 15:59:01</td>\n",
       "      <td>2</td>\n",
       "    </tr>\n",
       "  </tbody>\n",
       "</table>\n",
       "</div>"
      ],
      "text/plain": [
       "      sid           click_time  click_mode\n",
       "0  175043  2018-10-14 10:35:07           7\n",
       "1  414568  2018-10-20 04:18:48           2\n",
       "2  314669  2018-10-26 16:53:04           2\n",
       "3  117837  2018-10-03 18:48:02           7\n",
       "4  474691  2018-11-01 15:59:01           2"
      ]
     },
     "execution_count": 120,
     "metadata": {},
     "output_type": "execute_result"
    }
   ],
   "source": [
    "train_clicks.head()"
   ]
  },
  {
   "cell_type": "code",
   "execution_count": 121,
   "metadata": {},
   "outputs": [
    {
     "data": {
      "text/plain": [
       "2047      1\n",
       "41662     1\n",
       "62132     1\n",
       "64181     1\n",
       "58038     1\n",
       "         ..\n",
       "898275    1\n",
       "888036    1\n",
       "885989    1\n",
       "892134    1\n",
       "0         1\n",
       "Name: sid, Length: 1675183, dtype: int64"
      ]
     },
     "execution_count": 121,
     "metadata": {},
     "output_type": "execute_result"
    }
   ],
   "source": [
    "train_clicks['sid'].value_counts()"
   ]
  },
  {
   "cell_type": "markdown",
   "metadata": {},
   "source": [
    "### click_mode\n",
    "- The click_mode 2 is the most frequent, which occupies 27.83%, followed by 1,7,9.\n",
    "- the click_mode 8 and 11 are the least frequent."
   ]
  },
  {
   "cell_type": "code",
   "execution_count": 122,
   "metadata": {},
   "outputs": [
    {
     "data": {
      "text/plain": [
       "2     0.278284\n",
       "7     0.171121\n",
       "1     0.163761\n",
       "9     0.122579\n",
       "5     0.111828\n",
       "3     0.049663\n",
       "10    0.030849\n",
       "4     0.024825\n",
       "6     0.023975\n",
       "11    0.019001\n",
       "8     0.004115\n",
       "Name: click_mode, dtype: float64"
      ]
     },
     "execution_count": 122,
     "metadata": {},
     "output_type": "execute_result"
    }
   ],
   "source": [
    "train_clicks[\"click_mode\"].value_counts(normalize=True)"
   ]
  },
  {
   "cell_type": "code",
   "execution_count": 123,
   "metadata": {},
   "outputs": [
    {
     "data": {
      "text/plain": [
       "<matplotlib.axes._subplots.AxesSubplot at 0x1d751b11148>"
      ]
     },
     "execution_count": 123,
     "metadata": {},
     "output_type": "execute_result"
    },
    {
     "data": {
      "image/png": "[encoded data removed]",
      "text/plain": [
       "<Figure size 1152x576 with 2 Axes>"
      ]
     },
     "metadata": {
      "needs_background": "light"
     },
     "output_type": "display_data"
    }
   ],
   "source": [
    "plt.figure(figsize=[16,8]) \n",
    "plt.subplot(1, 2, 1)\n",
    "train_clicks['click_mode'].value_counts().sort_index().plot(kind = 'bar')\n",
    "plt.xlabel('click_mode')\n",
    "plt.ylabel('Number of appereance')\n",
    "plt.subplot(1, 2, 2)\n",
    "train_clicks['click_mode'].value_counts().sort_index().plot(kind = 'pie') "
   ]
  },
  {
   "cell_type": "code",
   "execution_count": 125,
   "metadata": {},
   "outputs": [
    {
     "data": {
      "text/plain": [
       "11"
      ]
     },
     "execution_count": 125,
     "metadata": {},
     "output_type": "execute_result"
    }
   ],
   "source": [
    "train_clicks['click_mode'].nunique()"
   ]
  },
  {
   "cell_type": "markdown",
   "metadata": {},
   "source": [
    "## profiles data set\n",
    "### pid filed\n",
    "1. pid is unique"
   ]
  },
  {
   "cell_type": "code",
   "execution_count": 126,
   "metadata": {},
   "outputs": [
    {
     "data": {
      "text/html": [
       "<div>\n",
       "<style scoped>\n",
       "    .dataframe tbody tr th:only-of-type {\n",
       "        vertical-align: middle;\n",
       "    }\n",
       "\n",
       "    .dataframe tbody tr th {\n",
       "        vertical-align: top;\n",
       "    }\n",
       "\n",
       "    .dataframe thead th {\n",
       "        text-align: right;\n",
       "    }\n",
       "</style>\n",
       "<table border=\"1\" class=\"dataframe\">\n",
       "  <thead>\n",
       "    <tr style=\"text-align: right;\">\n",
       "      <th></th>\n",
       "      <th>pid</th>\n",
       "      <th>p0</th>\n",
       "      <th>p1</th>\n",
       "      <th>p2</th>\n",
       "      <th>p3</th>\n",
       "      <th>p4</th>\n",
       "      <th>p5</th>\n",
       "      <th>p6</th>\n",
       "      <th>p7</th>\n",
       "      <th>p8</th>\n",
       "      <th>...</th>\n",
       "      <th>p56</th>\n",
       "      <th>p57</th>\n",
       "      <th>p58</th>\n",
       "      <th>p59</th>\n",
       "      <th>p60</th>\n",
       "      <th>p61</th>\n",
       "      <th>p62</th>\n",
       "      <th>p63</th>\n",
       "      <th>p64</th>\n",
       "      <th>p65</th>\n",
       "    </tr>\n",
       "  </thead>\n",
       "  <tbody>\n",
       "    <tr>\n",
       "      <th>0</th>\n",
       "      <td>20555</td>\n",
       "      <td>1.0</td>\n",
       "      <td>0.0</td>\n",
       "      <td>0.0</td>\n",
       "      <td>0.0</td>\n",
       "      <td>0.0</td>\n",
       "      <td>0.0</td>\n",
       "      <td>0.0</td>\n",
       "      <td>0.0</td>\n",
       "      <td>1.0</td>\n",
       "      <td>...</td>\n",
       "      <td>0.0</td>\n",
       "      <td>0.0</td>\n",
       "      <td>0.0</td>\n",
       "      <td>0.0</td>\n",
       "      <td>1.0</td>\n",
       "      <td>0.0</td>\n",
       "      <td>0.0</td>\n",
       "      <td>0.0</td>\n",
       "      <td>0.0</td>\n",
       "      <td>0.0</td>\n",
       "    </tr>\n",
       "    <tr>\n",
       "      <th>1</th>\n",
       "      <td>42213</td>\n",
       "      <td>1.0</td>\n",
       "      <td>0.0</td>\n",
       "      <td>0.0</td>\n",
       "      <td>0.0</td>\n",
       "      <td>0.0</td>\n",
       "      <td>0.0</td>\n",
       "      <td>0.0</td>\n",
       "      <td>1.0</td>\n",
       "      <td>0.0</td>\n",
       "      <td>...</td>\n",
       "      <td>0.0</td>\n",
       "      <td>0.0</td>\n",
       "      <td>0.0</td>\n",
       "      <td>0.0</td>\n",
       "      <td>0.0</td>\n",
       "      <td>0.0</td>\n",
       "      <td>0.0</td>\n",
       "      <td>1.0</td>\n",
       "      <td>0.0</td>\n",
       "      <td>0.0</td>\n",
       "    </tr>\n",
       "    <tr>\n",
       "      <th>2</th>\n",
       "      <td>29526</td>\n",
       "      <td>0.0</td>\n",
       "      <td>0.0</td>\n",
       "      <td>1.0</td>\n",
       "      <td>0.0</td>\n",
       "      <td>0.0</td>\n",
       "      <td>0.0</td>\n",
       "      <td>0.0</td>\n",
       "      <td>1.0</td>\n",
       "      <td>0.0</td>\n",
       "      <td>...</td>\n",
       "      <td>0.0</td>\n",
       "      <td>0.0</td>\n",
       "      <td>0.0</td>\n",
       "      <td>0.0</td>\n",
       "      <td>1.0</td>\n",
       "      <td>0.0</td>\n",
       "      <td>0.0</td>\n",
       "      <td>0.0</td>\n",
       "      <td>0.0</td>\n",
       "      <td>0.0</td>\n",
       "    </tr>\n",
       "    <tr>\n",
       "      <th>3</th>\n",
       "      <td>117756</td>\n",
       "      <td>0.0</td>\n",
       "      <td>0.0</td>\n",
       "      <td>0.0</td>\n",
       "      <td>0.0</td>\n",
       "      <td>1.0</td>\n",
       "      <td>0.0</td>\n",
       "      <td>0.0</td>\n",
       "      <td>0.0</td>\n",
       "      <td>1.0</td>\n",
       "      <td>...</td>\n",
       "      <td>0.0</td>\n",
       "      <td>1.0</td>\n",
       "      <td>0.0</td>\n",
       "      <td>0.0</td>\n",
       "      <td>0.0</td>\n",
       "      <td>0.0</td>\n",
       "      <td>1.0</td>\n",
       "      <td>0.0</td>\n",
       "      <td>0.0</td>\n",
       "      <td>0.0</td>\n",
       "    </tr>\n",
       "    <tr>\n",
       "      <th>4</th>\n",
       "      <td>185606</td>\n",
       "      <td>0.0</td>\n",
       "      <td>0.0</td>\n",
       "      <td>0.0</td>\n",
       "      <td>1.0</td>\n",
       "      <td>0.0</td>\n",
       "      <td>0.0</td>\n",
       "      <td>0.0</td>\n",
       "      <td>0.0</td>\n",
       "      <td>1.0</td>\n",
       "      <td>...</td>\n",
       "      <td>0.0</td>\n",
       "      <td>0.0</td>\n",
       "      <td>0.0</td>\n",
       "      <td>1.0</td>\n",
       "      <td>0.0</td>\n",
       "      <td>1.0</td>\n",
       "      <td>0.0</td>\n",
       "      <td>0.0</td>\n",
       "      <td>0.0</td>\n",
       "      <td>0.0</td>\n",
       "    </tr>\n",
       "  </tbody>\n",
       "</table>\n",
       "<p>5 rows × 67 columns</p>\n",
       "</div>"
      ],
      "text/plain": [
       "      pid   p0   p1   p2   p3   p4   p5   p6   p7   p8  ...  p56  p57  p58  \\\n",
       "0   20555  1.0  0.0  0.0  0.0  0.0  0.0  0.0  0.0  1.0  ...  0.0  0.0  0.0   \n",
       "1   42213  1.0  0.0  0.0  0.0  0.0  0.0  0.0  1.0  0.0  ...  0.0  0.0  0.0   \n",
       "2   29526  0.0  0.0  1.0  0.0  0.0  0.0  0.0  1.0  0.0  ...  0.0  0.0  0.0   \n",
       "3  117756  0.0  0.0  0.0  0.0  1.0  0.0  0.0  0.0  1.0  ...  0.0  1.0  0.0   \n",
       "4  185606  0.0  0.0  0.0  1.0  0.0  0.0  0.0  0.0  1.0  ...  0.0  0.0  0.0   \n",
       "\n",
       "   p59  p60  p61  p62  p63  p64  p65  \n",
       "0  0.0  1.0  0.0  0.0  0.0  0.0  0.0  \n",
       "1  0.0  0.0  0.0  0.0  1.0  0.0  0.0  \n",
       "2  0.0  1.0  0.0  0.0  0.0  0.0  0.0  \n",
       "3  0.0  0.0  0.0  1.0  0.0  0.0  0.0  \n",
       "4  1.0  0.0  1.0  0.0  0.0  0.0  0.0  \n",
       "\n",
       "[5 rows x 67 columns]"
      ]
     },
     "execution_count": 126,
     "metadata": {},
     "output_type": "execute_result"
    }
   ],
   "source": [
    "profiles.head()"
   ]
  },
  {
   "cell_type": "code",
   "execution_count": 127,
   "metadata": {},
   "outputs": [
    {
     "data": {
      "text/plain": [
       "2047      1\n",
       "109727    1\n",
       "91270     1\n",
       "70792     1\n",
       "72841     1\n",
       "         ..\n",
       "82301     1\n",
       "86399     1\n",
       "174464    1\n",
       "192907    1\n",
       "0         1\n",
       "Name: pid, Length: 119856, dtype: int64"
      ]
     },
     "execution_count": 127,
     "metadata": {},
     "output_type": "execute_result"
    }
   ],
   "source": [
    "profiles['pid'].value_counts()"
   ]
  },
  {
   "cell_type": "markdown",
   "metadata": {},
   "source": [
    "### p0-p65 filed\n",
    "1. p0-p65 have different distributions;\n",
    "2. 1 in p12,p1,p11,p25 is less than 0.1%, nevertheless, p30,p8 and p9 are more than 50%;"
   ]
  },
  {
   "cell_type": "code",
   "execution_count": 129,
   "metadata": {},
   "outputs": [],
   "source": [
    "cols = []\n",
    "for i in range(66):\n",
    "    cols.append(\"p\" + str(i))"
   ]
  },
  {
   "cell_type": "code",
   "execution_count": 131,
   "metadata": {},
   "outputs": [
    {
     "data": {
      "text/html": [
       "<div>\n",
       "<style scoped>\n",
       "    .dataframe tbody tr th:only-of-type {\n",
       "        vertical-align: middle;\n",
       "    }\n",
       "\n",
       "    .dataframe tbody tr th {\n",
       "        vertical-align: top;\n",
       "    }\n",
       "\n",
       "    .dataframe thead th {\n",
       "        text-align: right;\n",
       "    }\n",
       "</style>\n",
       "<table border=\"1\" class=\"dataframe\">\n",
       "  <thead>\n",
       "    <tr style=\"text-align: right;\">\n",
       "      <th></th>\n",
       "      <th>pid</th>\n",
       "      <th>p0</th>\n",
       "      <th>p1</th>\n",
       "      <th>p2</th>\n",
       "      <th>p3</th>\n",
       "      <th>p4</th>\n",
       "      <th>p5</th>\n",
       "      <th>p6</th>\n",
       "      <th>p7</th>\n",
       "      <th>p8</th>\n",
       "      <th>...</th>\n",
       "      <th>p56</th>\n",
       "      <th>p57</th>\n",
       "      <th>p58</th>\n",
       "      <th>p59</th>\n",
       "      <th>p60</th>\n",
       "      <th>p61</th>\n",
       "      <th>p62</th>\n",
       "      <th>p63</th>\n",
       "      <th>p64</th>\n",
       "      <th>p65</th>\n",
       "    </tr>\n",
       "  </thead>\n",
       "  <tbody>\n",
       "    <tr>\n",
       "      <th>0</th>\n",
       "      <td>20555</td>\n",
       "      <td>1.0</td>\n",
       "      <td>0.0</td>\n",
       "      <td>0.0</td>\n",
       "      <td>0.0</td>\n",
       "      <td>0.0</td>\n",
       "      <td>0.0</td>\n",
       "      <td>0.0</td>\n",
       "      <td>0.0</td>\n",
       "      <td>1.0</td>\n",
       "      <td>...</td>\n",
       "      <td>0.0</td>\n",
       "      <td>0.0</td>\n",
       "      <td>0.0</td>\n",
       "      <td>0.0</td>\n",
       "      <td>1.0</td>\n",
       "      <td>0.0</td>\n",
       "      <td>0.0</td>\n",
       "      <td>0.0</td>\n",
       "      <td>0.0</td>\n",
       "      <td>0.0</td>\n",
       "    </tr>\n",
       "    <tr>\n",
       "      <th>1</th>\n",
       "      <td>42213</td>\n",
       "      <td>1.0</td>\n",
       "      <td>0.0</td>\n",
       "      <td>0.0</td>\n",
       "      <td>0.0</td>\n",
       "      <td>0.0</td>\n",
       "      <td>0.0</td>\n",
       "      <td>0.0</td>\n",
       "      <td>1.0</td>\n",
       "      <td>0.0</td>\n",
       "      <td>...</td>\n",
       "      <td>0.0</td>\n",
       "      <td>0.0</td>\n",
       "      <td>0.0</td>\n",
       "      <td>0.0</td>\n",
       "      <td>0.0</td>\n",
       "      <td>0.0</td>\n",
       "      <td>0.0</td>\n",
       "      <td>1.0</td>\n",
       "      <td>0.0</td>\n",
       "      <td>0.0</td>\n",
       "    </tr>\n",
       "    <tr>\n",
       "      <th>2</th>\n",
       "      <td>29526</td>\n",
       "      <td>0.0</td>\n",
       "      <td>0.0</td>\n",
       "      <td>1.0</td>\n",
       "      <td>0.0</td>\n",
       "      <td>0.0</td>\n",
       "      <td>0.0</td>\n",
       "      <td>0.0</td>\n",
       "      <td>1.0</td>\n",
       "      <td>0.0</td>\n",
       "      <td>...</td>\n",
       "      <td>0.0</td>\n",
       "      <td>0.0</td>\n",
       "      <td>0.0</td>\n",
       "      <td>0.0</td>\n",
       "      <td>1.0</td>\n",
       "      <td>0.0</td>\n",
       "      <td>0.0</td>\n",
       "      <td>0.0</td>\n",
       "      <td>0.0</td>\n",
       "      <td>0.0</td>\n",
       "    </tr>\n",
       "    <tr>\n",
       "      <th>3</th>\n",
       "      <td>117756</td>\n",
       "      <td>0.0</td>\n",
       "      <td>0.0</td>\n",
       "      <td>0.0</td>\n",
       "      <td>0.0</td>\n",
       "      <td>1.0</td>\n",
       "      <td>0.0</td>\n",
       "      <td>0.0</td>\n",
       "      <td>0.0</td>\n",
       "      <td>1.0</td>\n",
       "      <td>...</td>\n",
       "      <td>0.0</td>\n",
       "      <td>1.0</td>\n",
       "      <td>0.0</td>\n",
       "      <td>0.0</td>\n",
       "      <td>0.0</td>\n",
       "      <td>0.0</td>\n",
       "      <td>1.0</td>\n",
       "      <td>0.0</td>\n",
       "      <td>0.0</td>\n",
       "      <td>0.0</td>\n",
       "    </tr>\n",
       "    <tr>\n",
       "      <th>4</th>\n",
       "      <td>185606</td>\n",
       "      <td>0.0</td>\n",
       "      <td>0.0</td>\n",
       "      <td>0.0</td>\n",
       "      <td>1.0</td>\n",
       "      <td>0.0</td>\n",
       "      <td>0.0</td>\n",
       "      <td>0.0</td>\n",
       "      <td>0.0</td>\n",
       "      <td>1.0</td>\n",
       "      <td>...</td>\n",
       "      <td>0.0</td>\n",
       "      <td>0.0</td>\n",
       "      <td>0.0</td>\n",
       "      <td>1.0</td>\n",
       "      <td>0.0</td>\n",
       "      <td>1.0</td>\n",
       "      <td>0.0</td>\n",
       "      <td>0.0</td>\n",
       "      <td>0.0</td>\n",
       "      <td>0.0</td>\n",
       "    </tr>\n",
       "  </tbody>\n",
       "</table>\n",
       "<p>5 rows × 67 columns</p>\n",
       "</div>"
      ],
      "text/plain": [
       "      pid   p0   p1   p2   p3   p4   p5   p6   p7   p8  ...  p56  p57  p58  \\\n",
       "0   20555  1.0  0.0  0.0  0.0  0.0  0.0  0.0  0.0  1.0  ...  0.0  0.0  0.0   \n",
       "1   42213  1.0  0.0  0.0  0.0  0.0  0.0  0.0  1.0  0.0  ...  0.0  0.0  0.0   \n",
       "2   29526  0.0  0.0  1.0  0.0  0.0  0.0  0.0  1.0  0.0  ...  0.0  0.0  0.0   \n",
       "3  117756  0.0  0.0  0.0  0.0  1.0  0.0  0.0  0.0  1.0  ...  0.0  1.0  0.0   \n",
       "4  185606  0.0  0.0  0.0  1.0  0.0  0.0  0.0  0.0  1.0  ...  0.0  0.0  0.0   \n",
       "\n",
       "   p59  p60  p61  p62  p63  p64  p65  \n",
       "0  0.0  1.0  0.0  0.0  0.0  0.0  0.0  \n",
       "1  0.0  0.0  0.0  0.0  1.0  0.0  0.0  \n",
       "2  0.0  1.0  0.0  0.0  0.0  0.0  0.0  \n",
       "3  0.0  0.0  0.0  1.0  0.0  0.0  0.0  \n",
       "4  1.0  0.0  1.0  0.0  0.0  0.0  0.0  \n",
       "\n",
       "[5 rows x 67 columns]"
      ]
     },
     "execution_count": 131,
     "metadata": {},
     "output_type": "execute_result"
    }
   ],
   "source": [
    "profiles.head()"
   ]
  },
  {
   "cell_type": "code",
   "execution_count": 130,
   "metadata": {},
   "outputs": [
    {
     "data": {
      "text/plain": [
       "p12    0.000058\n",
       "p1     0.000309\n",
       "p11    0.000734\n",
       "p25    0.000876\n",
       "p23    0.001418\n",
       "         ...   \n",
       "p34    0.429365\n",
       "p7     0.435656\n",
       "p9     0.514376\n",
       "p8     0.563209\n",
       "p30    0.694625\n",
       "Length: 66, dtype: float64"
      ]
     },
     "execution_count": 130,
     "metadata": {},
     "output_type": "execute_result"
    }
   ],
   "source": [
    "profiles[cols].mean(axis=0).sort_values()"
   ]
  },
  {
   "cell_type": "code",
   "execution_count": 135,
   "metadata": {},
   "outputs": [],
   "source": [
    "df_p = profiles[cols].sum(axis=0)"
   ]
  },
  {
   "cell_type": "code",
   "execution_count": 136,
   "metadata": {},
   "outputs": [
    {
     "data": {
      "text/plain": [
       "Text(0, 0.5, 'Number of appereance')"
      ]
     },
     "execution_count": 136,
     "metadata": {},
     "output_type": "execute_result"
    },
    {
     "data": {
      "image/png": "[encoded data removed]",
      "text/plain": [
       "<Figure size 1152x576 with 1 Axes>"
      ]
     },
     "metadata": {
      "needs_background": "light"
     },
     "output_type": "display_data"
    }
   ],
   "source": [
    "plt.figure(figsize=[16,8])  \n",
    "df_p.sort_index().plot(kind = 'bar')\n",
    "plt.xlabel('p0 - p65')\n",
    "plt.ylabel('Number of appereance') "
   ]
  },
  {
   "cell_type": "code",
   "execution_count": null,
   "metadata": {},
   "outputs": [],
   "source": []
  }
 ],
 "metadata": {
  "kernelspec": {
   "display_name": "Python 3",
   "language": "python",
   "name": "python3"
  },
  "language_info": {
   "codemirror_mode": {
    "name": "ipython",
    "version": 3
   },
   "file_extension": ".py",
   "mimetype": "text/x-python",
   "name": "python",
   "nbconvert_exporter": "python",
   "pygments_lexer": "ipython3",
   "version": "3.7.6"
  },
  "toc": {
   "base_numbering": 1,
   "nav_menu": {},
   "number_sections": true,
   "sideBar": true,
   "skip_h1_title": false,
   "title_cell": "Table of Contents",
   "title_sidebar": "Contents",
   "toc_cell": false,
   "toc_position": {},
   "toc_section_display": true,
   "toc_window_display": false
  }
 },
 "nbformat": 4,
 "nbformat_minor": 4
}
