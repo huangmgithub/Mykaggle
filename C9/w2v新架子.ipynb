{
 "cells": [
  {
   "cell_type": "markdown",
   "metadata": {},
   "source": [
    "#### 以kdd比赛交通推荐数据中的queries[[\"o\", \"d\"]]为例"
   ]
  },
  {
   "cell_type": "code",
   "execution_count": null,
   "metadata": {},
   "outputs": [],
   "source": [
    "os.system('pip install gensim')\n",
    "from gensim.models import Word2Vec\n",
    "from gensim.corpora import WikiCorpus\n",
    "from gensim.models.word2vec import LineSentence\n",
    "import multiprocessing\n",
    "\n",
    "# 连接\n",
    "data['o_d'] = data['o'].astype(str) + '_' + data['d'].astype(str)\n",
    "\n",
    "# 三个特征数据转换成数据列表\n",
    "sentence = data[['o','d','o_d']].astype(str).fillna('-1').astype(str).values\n",
    "sentence = sentence.tolist()\n",
    "print('training...')\n",
    "np.random.seed(2019)\n",
    "\n",
    "# W2V词向量训练\n",
    "L=5\n",
    "model = Word2Vec(sentence, size=L, window=20, min_count=3, workers=multiprocessing.cpu_count(),iter=10)\n",
    "print('outputing...')\n",
    "\n",
    "\n",
    "for fea in [['o','d','o_d']:\n",
    "    values = data[fea].unique() # 去重后排列\n",
    "    print(len(values))\n",
    "    w2v = []\n",
    "    for i in values:\n",
    "        a = [i]\n",
    "        if str(i) in model:\n",
    "            a.extend(model[str(i)])\n",
    "        else:\n",
    "            a.extend(np.ones(L) * -10)\n",
    "        w2v.append(a)  # [[6], [6], [6], [6]]\n",
    "    w2v = pd.DataFrame(w2v)\n",
    "    w2v.columns = [fea, fea+'_w2v_1', fea+'_w2v_2', fea+'_w2v_3',\n",
    "                    fea+'_w2v_4', fea+'_w2v_5']\n",
    "    data = data.merge(w2v, on=fea, how='left')"
   ]
  },
  {
   "cell_type": "code",
   "execution_count": null,
   "metadata": {},
   "outputs": [],
   "source": []
  }
 ],
 "metadata": {
  "kernelspec": {
   "display_name": "Python 3",
   "language": "python",
   "name": "python3"
  },
  "language_info": {
   "codemirror_mode": {
    "name": "ipython",
    "version": 3
   },
   "file_extension": ".py",
   "mimetype": "text/x-python",
   "name": "python",
   "nbconvert_exporter": "python",
   "pygments_lexer": "ipython3",
   "version": "3.7.6"
  },
  "toc": {
   "base_numbering": 1,
   "nav_menu": {},
   "number_sections": true,
   "sideBar": true,
   "skip_h1_title": false,
   "title_cell": "Table of Contents",
   "title_sidebar": "Contents",
   "toc_cell": false,
   "toc_position": {},
   "toc_section_display": true,
   "toc_window_display": false
  }
 },
 "nbformat": 4,
 "nbformat_minor": 4
}
