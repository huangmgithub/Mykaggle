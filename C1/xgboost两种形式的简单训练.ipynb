{
 "cells": [
  {
   "cell_type": "markdown",
   "metadata": {},
   "source": [
    "原生态xgboost的使用形式"
   ]
  },
  {
   "cell_type": "code",
   "execution_count": 1,
   "metadata": {},
   "outputs": [
    {
     "name": "stdout",
     "output_type": "stream",
     "text": [
      "     0    1    2    3\n",
      "0  5.1  3.5  1.4  0.2\n",
      "1  4.9  3.0  1.4  0.2\n",
      "2  4.7  3.2  1.3  0.2\n",
      "3  4.6  3.1  1.5  0.2\n",
      "4  5.0  3.6  1.4  0.2\n",
      "   0\n",
      "0  0\n",
      "1  0\n",
      "2  0\n",
      "3  0\n",
      "4  0\n",
      "   sepal_l  sepal_w  petal_l  petal_w\n",
      "0      5.1      3.5      1.4      0.2\n",
      "1      4.9      3.0      1.4      0.2\n",
      "2      4.7      3.2      1.3      0.2\n",
      "3      4.6      3.1      1.5      0.2\n",
      "4      5.0      3.6      1.4      0.2\n",
      "   label\n",
      "0      0\n",
      "1      0\n",
      "2      0\n",
      "3      0\n",
      "4      0\n"
     ]
    }
   ],
   "source": [
    "# 从sklearn 调入所需要的包\n",
    "from sklearn import datasets\n",
    "from sklearn.model_selection import train_test_split #数据分隔出训练集和验证集\n",
    "import xgboost as xgb\n",
    "import numpy as np\n",
    "import pandas as pd\n",
    "#导入精度和召回\n",
    "from sklearn.metrics import precision_score, recall_score\n",
    "#导入鸢尾花数据\n",
    "iris = datasets.load_iris()\n",
    "data = iris.data\n",
    "label = iris.target\n",
    "print(pd.DataFrame(data).head())\n",
    "print(pd.DataFrame(label).head())\n",
    "data1 = pd.DataFrame(data)\n",
    "## 花萼长宽花瓣长宽\n",
    "data1.columns = ['sepal_l','sepal_w','petal_l','petal_w']\n",
    "print(data1.head())\n",
    "label1 =pd.DataFrame(label)\n",
    "label1.columns=['label']\n",
    "print(label1.head())\n",
    "#注意这里data label顺序是一致的，千万别打乱"
   ]
  },
  {
   "cell_type": "code",
   "execution_count": 2,
   "metadata": {},
   "outputs": [
    {
     "name": "stdout",
     "output_type": "stream",
     "text": [
      "训练集长度: 105\n",
      "测试集长度: 45\n"
     ]
    }
   ],
   "source": [
    "# 划分训练集和测试集\n",
    "train_x, test_x, train_y, test_y = train_test_split(data1.values, label1.values, test_size=0.3, random_state=42)\n",
    "print(\"训练集长度:\", len(train_x))\n",
    "print(\"测试集长度:\", len(test_x))"
   ]
  },
  {
   "cell_type": "code",
   "execution_count": 3,
   "metadata": {},
   "outputs": [
    {
     "name": "stdout",
     "output_type": "stream",
     "text": [
      "[[0.00650657 0.96226174 0.03123168]\n",
      " [0.970643   0.02533227 0.00402478]\n",
      " [0.0033913  0.0069211  0.9896876 ]\n",
      " [0.00654363 0.9677424  0.02571394]\n",
      " [0.00615642 0.9104776  0.08336602]]\n",
      "test的预测结果: [1 0 2 1 1 0 1 2 1 1 2 0 0 0 0 1 2 1 1 2 0 2 0 2 2 2 2 2 0 0 0 0 1 0 0 2 1\n",
      " 0 0 0 2 1 1 0 0]\n",
      "验证集精准率： 1.0\n",
      "验证集召回率： 1.0\n"
     ]
    }
   ],
   "source": [
    "# 转换为DMatrix数据格式\n",
    "# dtrain = xgb.DMatrix(train_x, label=train_y)\n",
    "test_data = xgb.DMatrix(test_x, label=test_y)\n",
    "# 设置参数\n",
    "###multi：softmax是使用softmax后产生的分类结果，而multi:softprob是输出的概率矩阵。\n",
    "\n",
    "xgb_params = {\n",
    "    'eta': 0.3, #学习率\n",
    "    'silent': True,  # 输出运行讯息\n",
    "    'objective': 'multi:softprob',  # 使用多分类生成概率矩阵格式'multi:softmax',multi:softprob\n",
    "    'num_class': 3,  # 共有几个类别\n",
    "    'max_depth': 3  # 深度\n",
    "}\n",
    "num_round = 20  # 跑的步数\n",
    "\n",
    "# 模型训练\n",
    "model = xgb.train(xgb_params,xgb.DMatrix(train_x, label=train_y), num_round)\n",
    "# 模型预测\n",
    "test_pre = model.predict(test_data)\n",
    "\n",
    "print(test_pre[:5])\n",
    "\n",
    "# 选择表示最高概率的列\n",
    "test_pre_1 = np.asarray([np.argmax(row) for row in test_pre])\n",
    "print(\"test的预测结果:\",test_pre_1)\n",
    "\n",
    "# 模型评估\n",
    "print('验证集精准率：',precision_score(test_y, test_pre_1, average='macro')) \n",
    "print('验证集召回率：',recall_score(test_y, test_pre_1, average='macro'))  "
   ]
  },
  {
   "cell_type": "markdown",
   "metadata": {},
   "source": [
    "Sklearn接口形式使用Xgboost"
   ]
  },
  {
   "cell_type": "code",
   "execution_count": 4,
   "metadata": {},
   "outputs": [
    {
     "name": "stderr",
     "output_type": "stream",
     "text": [
      "E:\\ProgramData\\Anaconda3\\lib\\site-packages\\sklearn\\preprocessing\\label.py:219: DataConversionWarning: A column-vector y was passed when a 1d array was expected. Please change the shape of y to (n_samples, ), for example using ravel().\n",
      "  y = column_or_1d(y, warn=True)\n",
      "E:\\ProgramData\\Anaconda3\\lib\\site-packages\\sklearn\\preprocessing\\label.py:252: DataConversionWarning: A column-vector y was passed when a 1d array was expected. Please change the shape of y to (n_samples, ), for example using ravel().\n",
      "  y = column_or_1d(y, warn=True)\n"
     ]
    },
    {
     "name": "stdout",
     "output_type": "stream",
     "text": [
      "[1 0 2 1 1 0 1 2 1 1 2 0 0 0 0 1 2 1 1 2 0 2 0 2 2 2 2 2 0 0 0 0 1 0 0 2 1\n",
      " 0 0 0 2 1 1 0 0]\n",
      "验证集精准率： 1.0\n",
      "验证集召回率： 1.0\n"
     ]
    }
   ],
   "source": [
    "from xgboost import XGBClassifier\n",
    "model = XGBClassifier(\n",
    "        learning_rate=0.01,#学习率\n",
    "        n_estimators=3000,#步长\n",
    "        max_depth=4,#深度\n",
    "        objective='binary:logistic',\n",
    "        seed=27\n",
    "    )\n",
    "model.fit(train_x,train_y)\n",
    "\n",
    "# 预测\n",
    "#输出预测结果\n",
    "test_pre2 = model.predict(test_x)\n",
    "print(test_pre2)\n",
    "# 模型评估\n",
    "print('验证集精准率：',precision_score(test_y, test_pre2, average='macro')) \n",
    "print('验证集召回率：',recall_score(test_y, test_pre2, average='macro'))  "
   ]
  },
  {
   "cell_type": "code",
   "execution_count": null,
   "metadata": {},
   "outputs": [],
   "source": []
  }
 ],
 "metadata": {
  "kernelspec": {
   "display_name": "Python 3",
   "language": "python",
   "name": "python3"
  },
  "language_info": {
   "codemirror_mode": {
    "name": "ipython",
    "version": 3
   },
   "file_extension": ".py",
   "mimetype": "text/x-python",
   "name": "python",
   "nbconvert_exporter": "python",
   "pygments_lexer": "ipython3",
   "version": "3.7.6"
  },
  "toc": {
   "base_numbering": 1,
   "nav_menu": {},
   "number_sections": true,
   "sideBar": true,
   "skip_h1_title": false,
   "title_cell": "Table of Contents",
   "title_sidebar": "Contents",
   "toc_cell": false,
   "toc_position": {},
   "toc_section_display": true,
   "toc_window_display": false
  }
 },
 "nbformat": 4,
 "nbformat_minor": 2
}
