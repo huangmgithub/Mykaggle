{
 "cells": [
  {
   "cell_type": "code",
   "execution_count": 1,
   "metadata": {},
   "outputs": [],
   "source": [
    "path = \"./data/\"\n",
    "import os\n",
    "import json\n",
    "import math\n",
    "import re\n",
    "\n",
    "# os.system(\"pip install numba\")\n",
    "from numba import jit\n",
    "\n",
    "# 进度条\n",
    "from tqdm import tqdm_notebook\n",
    "from tqdm import tqdm\n",
    "\n",
    "# 算法\n",
    "import lightgbm as lgb\n",
    "import catboost as cbt\n",
    "import xgboost as xgb\n",
    "\n",
    "# 数据处理\n",
    "import pandas as pd\n",
    "import numpy as np\n",
    "\n",
    "# Sklearn\n",
    "from sklearn.metrics import roc_auc_score\n",
    "from sklearn.model_selection import StratifiedKFold, KFold, RepeatedKFold\n",
    "from sklearn.preprocessing import LabelEncoder\n",
    "from sklearn.preprocessing import StandardScaler\n",
    "from sklearn.metrics import mean_absolute_error\n",
    "from sklearn.linear_model import LinearRegression\n",
    "from sklearn.preprocessing import StandardScaler as std\n",
    "from sklearn.kernel_ridge import KernelRidge\n",
    "from sklearn.metrics import f1_score\n",
    "\n",
    "# Time\n",
    "import time\n",
    "import datetime\n",
    "from datetime import datetime, timedelta\n",
    "\n",
    "# Garbage collection\n",
    "import gc\n",
    "\n",
    "# scipy\n",
    "from scipy.signal import hilbert\n",
    "from scipy.signal import hann\n",
    "from scipy.signal import convolve\n",
    "from scipy import stats\n",
    "import scipy.spatial.distance as dist\n",
    "\n",
    "from collections import Counter\n",
    "from statistics import mode\n",
    "\n",
    "import warnings\n",
    "warnings.filterwarnings(\"ignore\")\n",
    "\n",
    "from itertools import product\n",
    "import ast\n",
    "tqdm.pandas()"
   ]
  },
  {
   "cell_type": "markdown",
   "metadata": {},
   "source": [
    "round1_iflyad_anticheat_traindata.txt为初赛的训练集   \n",
    "round2_iflyad_anticheat_traindata.txt为复赛的训练集\n",
    "\n",
    "使用pd.read_table读取txt文件"
   ]
  },
  {
   "cell_type": "code",
   "execution_count": 2,
   "metadata": {
    "scrolled": true
   },
   "outputs": [
    {
     "name": "stdout",
     "output_type": "stream",
     "text": [
      "<class 'pandas.core.frame.DataFrame'>\n",
      "RangeIndex: 1000000 entries, 0 to 999999\n",
      "Data columns (total 29 columns):\n",
      " #   Column        Non-Null Count    Dtype  \n",
      "---  ------        --------------    -----  \n",
      " 0   sid           1000000 non-null  object \n",
      " 1   label         1000000 non-null  int64  \n",
      " 2   pkgname       1000000 non-null  object \n",
      " 3   ver           678176 non-null   object \n",
      " 4   adunitshowid  1000000 non-null  object \n",
      " 5   mediashowid   1000000 non-null  object \n",
      " 6   apptype       1000000 non-null  float64\n",
      " 7   nginxtime     1000000 non-null  float64\n",
      " 8   ip            1000000 non-null  object \n",
      " 9   city          984807 non-null   object \n",
      " 10  province      1000000 non-null  float64\n",
      " 11  reqrealip     1000000 non-null  object \n",
      " 12  adidmd5       1000000 non-null  object \n",
      " 13  imeimd5       1000000 non-null  object \n",
      " 14  idfamd5       1000000 non-null  object \n",
      " 15  openudidmd5   1000000 non-null  object \n",
      " 16  macmd5        1000000 non-null  object \n",
      " 17  dvctype       1000000 non-null  float64\n",
      " 18  model         995533 non-null   object \n",
      " 19  make          876161 non-null   object \n",
      " 20  ntt           1000000 non-null  float64\n",
      " 21  carrier       1000000 non-null  float64\n",
      " 22  os            1000000 non-null  object \n",
      " 23  osv           987003 non-null   object \n",
      " 24  orientation   1000000 non-null  float64\n",
      " 25  lan           632473 non-null   object \n",
      " 26  h             1000000 non-null  float64\n",
      " 27  w             1000000 non-null  float64\n",
      " 28  ppi           1000000 non-null  float64\n",
      "dtypes: float64(10), int64(1), object(18)\n",
      "memory usage: 221.3+ MB\n",
      "None\n"
     ]
    }
   ],
   "source": [
    "# concat\n",
    "# reset_index重建索引， drop=True 是把原来索引删掉\n",
    "train1 = pd.read_table(path + \"round1_iflyad_anticheat_traindata.txt\")\n",
    "# train2 = pd.read_table(path + \"round2_iflyad_anticheat_traindata.txt\")\n",
    "# train = train1.append(train2).reset_index(drop=True) \n",
    "train = train1\n",
    "# 可以试试pd.concat\n",
    "print(train.info())"
   ]
  },
  {
   "cell_type": "markdown",
   "metadata": {},
   "source": [
    "round2_iflyad_anticheat_testdata_feature_A.txt 是复赛需要预测的A榜数据集   \n",
    "round2_iflyad_anticheat_testdata_feature_B.txt 是复赛需要预测的B榜数据集"
   ]
  },
  {
   "cell_type": "code",
   "execution_count": 3,
   "metadata": {},
   "outputs": [],
   "source": [
    "test_2a = pd.read_table(path + \"round2_iflyad_anticheat_testdata_feature_A.txt\")\n",
    "test_2b = pd.read_table(path + \"round2_iflyad_anticheat_testdata_feature_B.txt\")\n",
    "test = test_2a.append(test_2b).reset_index(drop=True)\n",
    "# pd.concat\n",
    "test[\"label\"] = -999 # 暂时填充test label\n",
    "data = train.append(test).reset_index(drop=True)"
   ]
  },
  {
   "cell_type": "code",
   "execution_count": 4,
   "metadata": {},
   "outputs": [
    {
     "data": {
      "text/html": [
       "<div>\n",
       "<style scoped>\n",
       "    .dataframe tbody tr th:only-of-type {\n",
       "        vertical-align: middle;\n",
       "    }\n",
       "\n",
       "    .dataframe tbody tr th {\n",
       "        vertical-align: top;\n",
       "    }\n",
       "\n",
       "    .dataframe thead th {\n",
       "        text-align: right;\n",
       "    }\n",
       "</style>\n",
       "<table border=\"1\" class=\"dataframe\">\n",
       "  <thead>\n",
       "    <tr style=\"text-align: right;\">\n",
       "      <th></th>\n",
       "      <th>sid</th>\n",
       "      <th>label</th>\n",
       "      <th>pkgname</th>\n",
       "      <th>ver</th>\n",
       "      <th>adunitshowid</th>\n",
       "      <th>mediashowid</th>\n",
       "      <th>apptype</th>\n",
       "      <th>nginxtime</th>\n",
       "      <th>ip</th>\n",
       "      <th>city</th>\n",
       "      <th>...</th>\n",
       "      <th>make</th>\n",
       "      <th>ntt</th>\n",
       "      <th>carrier</th>\n",
       "      <th>os</th>\n",
       "      <th>osv</th>\n",
       "      <th>orientation</th>\n",
       "      <th>lan</th>\n",
       "      <th>h</th>\n",
       "      <th>w</th>\n",
       "      <th>ppi</th>\n",
       "    </tr>\n",
       "  </thead>\n",
       "  <tbody>\n",
       "    <tr>\n",
       "      <th>0</th>\n",
       "      <td>d7460126-e071-4979-9ee8-42f72777a28a-156009070...</td>\n",
       "      <td>1</td>\n",
       "      <td>2d2664e827bcbb8b07100c7fbe072e9b</td>\n",
       "      <td>11.11.0</td>\n",
       "      <td>907d0f8c29663840491577a21c7b612a</td>\n",
       "      <td>ca64a500000d84c8fcb8a0587d0e1e0c</td>\n",
       "      <td>280.0</td>\n",
       "      <td>1.560091e+12</td>\n",
       "      <td>183.197.47.83</td>\n",
       "      <td>石家庄市</td>\n",
       "      <td>...</td>\n",
       "      <td>vivo</td>\n",
       "      <td>2.0</td>\n",
       "      <td>46000.0</td>\n",
       "      <td>Android</td>\n",
       "      <td>8.1.0</td>\n",
       "      <td>0.0</td>\n",
       "      <td>zh-CN</td>\n",
       "      <td>2340.0</td>\n",
       "      <td>1080.0</td>\n",
       "      <td>3.0</td>\n",
       "    </tr>\n",
       "    <tr>\n",
       "      <th>1</th>\n",
       "      <td>b660d559-db97-4b5f-9bd2-2450cb89ce77-156005074...</td>\n",
       "      <td>1</td>\n",
       "      <td>empty</td>\n",
       "      <td>NaN</td>\n",
       "      <td>10199dc8fea2e173525bc3151bd84312</td>\n",
       "      <td>3f2fc57a6e1f9c6fa4464c25cc1e88a3</td>\n",
       "      <td>319.0</td>\n",
       "      <td>1.560051e+12</td>\n",
       "      <td>106.34.14.149</td>\n",
       "      <td>开封市</td>\n",
       "      <td>...</td>\n",
       "      <td>HUAWEI</td>\n",
       "      <td>5.0</td>\n",
       "      <td>0.0</td>\n",
       "      <td>android</td>\n",
       "      <td>Android_9</td>\n",
       "      <td>0.0</td>\n",
       "      <td>NaN</td>\n",
       "      <td>1080.0</td>\n",
       "      <td>2040.0</td>\n",
       "      <td>0.0</td>\n",
       "    </tr>\n",
       "    <tr>\n",
       "      <th>2</th>\n",
       "      <td>f49a740e-66c3-4605-9b67-4d3079fe69cb-156008914...</td>\n",
       "      <td>0</td>\n",
       "      <td>16b81f93f4b1a35cebbf15f07683f171</td>\n",
       "      <td>3.2.1.0524.1958</td>\n",
       "      <td>83f2ecfe65f936f5f2ed59f8e8ff1d01</td>\n",
       "      <td>eea7280e1a2313e4c2e89290b01d196c</td>\n",
       "      <td>273.0</td>\n",
       "      <td>1.560089e+12</td>\n",
       "      <td>223.104.16.151</td>\n",
       "      <td>长春市</td>\n",
       "      <td>...</td>\n",
       "      <td>OPPO</td>\n",
       "      <td>2.0</td>\n",
       "      <td>46000.0</td>\n",
       "      <td>Android</td>\n",
       "      <td>8.1.0</td>\n",
       "      <td>1.0</td>\n",
       "      <td>zh-CN</td>\n",
       "      <td>2196.0</td>\n",
       "      <td>1080.0</td>\n",
       "      <td>0.0</td>\n",
       "    </tr>\n",
       "    <tr>\n",
       "      <th>3</th>\n",
       "      <td>fd60d096-f168-4540-b782-729d64d0fcc6-156006253...</td>\n",
       "      <td>0</td>\n",
       "      <td>empty</td>\n",
       "      <td>4.7.5</td>\n",
       "      <td>9f1eadd9092b19bc86ee0cacde1c867f</td>\n",
       "      <td>eec946a5a66c023ec9d3b2ede5900626</td>\n",
       "      <td>265.0</td>\n",
       "      <td>1.560063e+12</td>\n",
       "      <td>223.104.239.101</td>\n",
       "      <td>曲靖市</td>\n",
       "      <td>...</td>\n",
       "      <td>NaN</td>\n",
       "      <td>6.0</td>\n",
       "      <td>0.0</td>\n",
       "      <td>android</td>\n",
       "      <td>7.0</td>\n",
       "      <td>0.0</td>\n",
       "      <td>NaN</td>\n",
       "      <td>0.0</td>\n",
       "      <td>0.0</td>\n",
       "      <td>0.0</td>\n",
       "    </tr>\n",
       "    <tr>\n",
       "      <th>4</th>\n",
       "      <td>a037b032-a5c7-40ea-9161-26b118b12406-156007938...</td>\n",
       "      <td>1</td>\n",
       "      <td>cf4821986014a7fef9d7b7ad8de655e4</td>\n",
       "      <td>228</td>\n",
       "      <td>2af944462e43cd2f59acbbfd37445413</td>\n",
       "      <td>57b3053174973702549ba88b6017ac30</td>\n",
       "      <td>336.0</td>\n",
       "      <td>1.560079e+12</td>\n",
       "      <td>220.152.155.170</td>\n",
       "      <td>深圳市</td>\n",
       "      <td>...</td>\n",
       "      <td>EML-AL00</td>\n",
       "      <td>2.0</td>\n",
       "      <td>46000.0</td>\n",
       "      <td>Android</td>\n",
       "      <td>9</td>\n",
       "      <td>0.0</td>\n",
       "      <td>Zh-CN</td>\n",
       "      <td>2244.0</td>\n",
       "      <td>1080.0</td>\n",
       "      <td>0.0</td>\n",
       "    </tr>\n",
       "  </tbody>\n",
       "</table>\n",
       "<p>5 rows × 29 columns</p>\n",
       "</div>"
      ],
      "text/plain": [
       "                                                 sid  label  \\\n",
       "0  d7460126-e071-4979-9ee8-42f72777a28a-156009070...      1   \n",
       "1  b660d559-db97-4b5f-9bd2-2450cb89ce77-156005074...      1   \n",
       "2  f49a740e-66c3-4605-9b67-4d3079fe69cb-156008914...      0   \n",
       "3  fd60d096-f168-4540-b782-729d64d0fcc6-156006253...      0   \n",
       "4  a037b032-a5c7-40ea-9161-26b118b12406-156007938...      1   \n",
       "\n",
       "                            pkgname              ver  \\\n",
       "0  2d2664e827bcbb8b07100c7fbe072e9b          11.11.0   \n",
       "1                             empty              NaN   \n",
       "2  16b81f93f4b1a35cebbf15f07683f171  3.2.1.0524.1958   \n",
       "3                             empty            4.7.5   \n",
       "4  cf4821986014a7fef9d7b7ad8de655e4              228   \n",
       "\n",
       "                       adunitshowid                       mediashowid  \\\n",
       "0  907d0f8c29663840491577a21c7b612a  ca64a500000d84c8fcb8a0587d0e1e0c   \n",
       "1  10199dc8fea2e173525bc3151bd84312  3f2fc57a6e1f9c6fa4464c25cc1e88a3   \n",
       "2  83f2ecfe65f936f5f2ed59f8e8ff1d01  eea7280e1a2313e4c2e89290b01d196c   \n",
       "3  9f1eadd9092b19bc86ee0cacde1c867f  eec946a5a66c023ec9d3b2ede5900626   \n",
       "4  2af944462e43cd2f59acbbfd37445413  57b3053174973702549ba88b6017ac30   \n",
       "\n",
       "   apptype     nginxtime               ip  city  ...      make  ntt  carrier  \\\n",
       "0    280.0  1.560091e+12    183.197.47.83  石家庄市  ...      vivo  2.0  46000.0   \n",
       "1    319.0  1.560051e+12    106.34.14.149   开封市  ...    HUAWEI  5.0      0.0   \n",
       "2    273.0  1.560089e+12   223.104.16.151   长春市  ...      OPPO  2.0  46000.0   \n",
       "3    265.0  1.560063e+12  223.104.239.101   曲靖市  ...       NaN  6.0      0.0   \n",
       "4    336.0  1.560079e+12  220.152.155.170   深圳市  ...  EML-AL00  2.0  46000.0   \n",
       "\n",
       "        os        osv orientation    lan       h       w  ppi  \n",
       "0  Android      8.1.0         0.0  zh-CN  2340.0  1080.0  3.0  \n",
       "1  android  Android_9         0.0    NaN  1080.0  2040.0  0.0  \n",
       "2  Android      8.1.0         1.0  zh-CN  2196.0  1080.0  0.0  \n",
       "3  android        7.0         0.0    NaN     0.0     0.0  0.0  \n",
       "4  Android          9         0.0  Zh-CN  2244.0  1080.0  0.0  \n",
       "\n",
       "[5 rows x 29 columns]"
      ]
     },
     "execution_count": 4,
     "metadata": {},
     "output_type": "execute_result"
    }
   ],
   "source": [
    "data.head()"
   ]
  },
  {
   "cell_type": "code",
   "execution_count": 5,
   "metadata": {},
   "outputs": [
    {
     "data": {
      "text/plain": [
       "OPPO                    1301846\n",
       "vivo                     510555\n",
       "HUAWEI                   336340\n",
       "Xiaomi                   116316\n",
       "HONOR                    101218\n",
       "                         ...   \n",
       "OPPO__OPPO__OPPOR9km          1\n",
       "Meitu,MP1701,T8s              1\n",
       "greatlteks                    1\n",
       "mi_9                          1\n",
       "YIYU                          1\n",
       "Name: make, Length: 4752, dtype: int64"
      ]
     },
     "execution_count": 5,
     "metadata": {},
     "output_type": "execute_result"
    }
   ],
   "source": [
    "data.make.value_counts()"
   ]
  },
  {
   "cell_type": "markdown",
   "metadata": {},
   "source": [
    "### 数据预处理"
   ]
  },
  {
   "cell_type": "code",
   "execution_count": 6,
   "metadata": {},
   "outputs": [],
   "source": [
    "# 1.厂商预处理\n",
    "# 将设备厂商名称统一\n",
    "data.loc[data['make'].str.contains('长虹', na=False), 'make'] = 'changhong'\n",
    "data.loc[data['make'].str.contains('朵唯', na=False), 'make'] = 'doov'\n",
    "data.loc[data['make'].str.contains('sm', na=False), 'make'] = 'samsung'\n",
    "data.loc[data['make'].str.contains('SAMSUNG', na=False), 'make'] = 'samsung'\n",
    "data.loc[data['make'].str.contains('三星', na=False), 'make'] = 'samsung'\n",
    "data.loc[data['make'].str.contains('GT-', na=False), 'make'] = 'samsung'\n",
    "data.loc[data['make'].str.contains('格力', na=False), 'make'] = 'gree'\n",
    "data.loc[data['make'].str.contains('Moto G', na=False), 'make'] = 'motorola'\n",
    "data.loc[data['make'].str.contains('Moto', na=False), 'make'] = 'motorola'\n",
    "data.loc[data['make'].str.contains('moto', na=False), 'make'] = 'motorola'\n",
    "data.loc[data['make'].str.contains('摩托罗拉', na=False), 'make'] = 'motorola'\n",
    "data.loc[data['make'].str.contains('诺基亚', na=False), 'make'] = 'nokia'\n",
    "data.loc[data['make'].str.contains('Nokia', na=False), 'make'] = 'nokia'\n",
    "data.loc[data['make'].str.contains('努比亚', na=False), 'make'] = 'nubia'\n",
    "data.loc[data['make'].str.contains('美图', na=False), 'make'] = 'meitu'\n",
    "data.loc[data['make'].str.contains('LG-', na=False), 'make'] = 'LG'\n",
    "data.loc[data['make'].str.contains('联想', na=False), 'make'] = 'lenovo'\n",
    "data.loc[data['make'].str.contains('rv:', na=False), 'make'] = 'RV'\n",
    "data.loc[data['make'].str.contains('rv:', na=False), 'make'] = 'RV'\n",
    "data.loc[data['make'].str.contains('小辣椒', na=False), 'make'] = 'xiaolajiao'\n",
    "data.loc[data['make'].str.contains('HUAWEI', na=False), 'make'] = 'huawei'\n",
    "data.loc[data['make'].str.contains('huawei', na=False), 'make'] = 'huawei'\n",
    "data.loc[data['make'].str.contains('荣耀', na=False), 'make'] = 'huawei'\n",
    "data.loc[data['make'].str.contains('华为', na=False), 'make'] = 'huawei'\n",
    "data.loc[data['make'].str.contains('-L', na=False), 'make'] = 'huawei'\n",
    "data.loc[data['make'].str.contains('al', na=False), 'make'] = 'huawei'\n",
    "data.loc[data['make'].str.contains('Blade', na=False), 'make'] = 'zte'\n",
    "data.loc[data['make'].str.contains('BLADE', na=False), 'make'] = 'zte'\n",
    "data.loc[data['make'].str.contains('中兴', na=False), 'make'] = 'zte'\n",
    "data.loc[data['make'].str.contains('海信', na=False), 'make'] = 'hisense'\n",
    "data.loc[data['make'].str.contains('Linux', na=False), 'make'] = 'Linux'\n",
    "data.loc[data['make'].str.contains('乐丰', na=False), 'make'] = 'lephone'\n",
    "data.loc[data['make'].str.contains('百立丰', na=False), 'make'] = 'lephone'\n",
    "data.loc[data['make'].str.contains('乐视', na=False), 'make'] = 'letv'\n",
    "data.loc[data['make'].str.contains('XT', na=False), 'make'] = 'Sony'\n",
    "data.loc[data['make'].str.contains('htc', na=False), 'make'] = 'htc'\n",
    "data.loc[data['make'].str.contains('HTC', na=False), 'make'] = 'htc'\n",
    "data.loc[data['make'].str.contains('ASUS', na=False), 'make'] = 'Asus'\n",
    "data.loc[data['make'].str.contains('锤子', na=False), 'make'] = 'smartisan'\n",
    "data.loc[data['make'].str.contains('oppo', na=False), 'make'] = 'oppo'\n",
    "data.loc[data['make'].str.contains('pb', na=False), 'make'] = 'oppo'\n",
    "data.loc[data['make'].str.contains('realme', na=False), 'make'] = 'oppo'\n",
    "data.loc[data['make'].str.contains('天语', na=False), 'make'] = 'k touch'\n",
    "data.loc[data['make'].str.contains('Tianyu', na=False), 'make'] = 'k touch'\n",
    "data.loc[data['make'].str.contains('tianyu', na=False), 'make'] = 'k touch'\n",
    "data.loc[data['make'].str.contains('酷派', na=False), 'make'] = 'coolpad'\n",
    "data.loc[data['make'].str.contains('索尼', na=False), 'make'] = 'sony'\n",
    "data.loc[data['make'].str.contains('SONY', na=False), 'make'] = 'sony'\n",
    "data.loc[data['make'].str.contains('sony', na=False), 'make'] = 'sony'\n",
    "data.loc[data['make'].str.contains('小米', na=False), 'make'] = 'xiaomi'\n",
    "data.loc[data['make'].str.contains('mi', na=False), 'make'] = 'xiaomi'\n",
    "data.loc[data['make'].str.contains('m1', na=False), 'make'] = 'xiaomi'\n",
    "data.loc[data['make'].str.contains('m1s', na=False), 'make'] = 'xiaomi'\n",
    "data.loc[data['make'].str.contains('m2', na=False), 'make'] = 'xiaomi'\n",
    "data.loc[data['make'].str.contains('m2s', na=False), 'make'] = 'xiaomi'\n",
    "data.loc[data['make'].str.contains('m2a', na=False), 'make'] = 'xiaomi'\n",
    "data.loc[data['make'].str.contains('m3', na=False), 'make'] = 'xiaomi'\n",
    "data.loc[data['make'].str.contains('m6', na=False), 'make'] = 'xiaomi'\n",
    "data.loc[data['make'].str.contains('xiaomi', na=False), 'make'] = 'xiaomi'\n",
    "data.loc[data['make'].str.contains('redmi', na=False), 'make'] = 'xiaomi'\n",
    "data.loc[data['make'].str.contains('魅族', na=False), 'make'] = 'meizu'\n",
    "data.loc[data['make'].str.contains('360', na=False), 'make'] = '360'\n",
    "data.loc[data['make'].str.contains('三星', na=False), 'make'] = 'samsung'\n",
    "data.loc[data['make'].str.contains('赛博宇华', na=False), 'make'] = 'sop'\n",
    "data.loc[data['make'].str.contains('金立', na=False), 'make'] = 'jinli'\n",
    "data.loc[data['make'].str.contains('gionee', na=False), 'make'] = 'jinli'\n",
    "data.loc[data['make'].str.contains('Gionee', na=False), 'make'] = 'jinli'\n",
    "data.loc[data['make'].str.contains('vivo', na=False), 'make'] = 'vivo'\n",
    "data.loc[data['make'].str.contains('VIVO', na=False), 'make'] = 'vivo'\n",
    "data.loc[data['make'].str.contains('oneplus', na=False), 'make'] = 'oneplus'\n",
    "data.loc[data['make'].str.contains('一加', na=False), 'make'] = 'oneplus'"
   ]
  },
  {
   "cell_type": "code",
   "execution_count": 7,
   "metadata": {},
   "outputs": [
    {
     "data": {
      "text/plain": [
       "OPPO                    1301846\n",
       "vivo                     527764\n",
       "huawei                   381427\n",
       "xiaomi                   172147\n",
       "HONOR                    101218\n",
       "                         ...   \n",
       "greatlteks                    1\n",
       "Meitu,MP1701,T8s              1\n",
       "OPPO__OPPO__OPPOR9km          1\n",
       "EBEST i7                      1\n",
       "YIYU                          1\n",
       "Name: make, Length: 3196, dtype: int64"
      ]
     },
     "execution_count": 7,
     "metadata": {},
     "output_type": "execute_result"
    }
   ],
   "source": [
    "data.make.value_counts()"
   ]
  },
  {
   "cell_type": "code",
   "execution_count": 8,
   "metadata": {},
   "outputs": [
    {
     "data": {
      "text/plain": [
       "PBAM00            100382\n",
       "PBEM00             70532\n",
       "PACM00             66683\n",
       "OPPO A57           66542\n",
       "OPPO R9S           51732\n",
       "                   ...  \n",
       "KOOBEE-S305M           1\n",
       "MI%2B5X                1\n",
       "CMCC M850              1\n",
       "HONOR ATH-AL00         1\n",
       "VIVO 1801              1\n",
       "Name: model, Length: 10824, dtype: int64"
      ]
     },
     "execution_count": 8,
     "metadata": {},
     "output_type": "execute_result"
    }
   ],
   "source": [
    "data.model.value_counts()"
   ]
  },
  {
   "cell_type": "code",
   "execution_count": 9,
   "metadata": {},
   "outputs": [],
   "source": [
    "# 2.机型预处理\n",
    "# 将无效的设备型号替代为可识别的设备型号\n",
    "data['model'].replace('PACM00',\"OPPO R15\",inplace=True)\n",
    "data['model'].replace('PBAM00',\"OPPO A5\",inplace=True)\n",
    "data['model'].replace('PBEM00',\"OPPO R17\",inplace=True)\n",
    "data['model'].replace('PADM00',\"OPPO A3\",inplace=True)\n",
    "data['model'].replace('PBBM00',\"OPPO A7\",inplace=True)\n",
    "data['model'].replace('PAAM00',\"OPPO R15_1\",inplace=True)\n",
    "data['model'].replace('PACT00',\"OPPO R15_2\",inplace=True)\n",
    "data['model'].replace('PABT00',\"OPPO A5_1\",inplace=True)\n",
    "data['model'].replace('PBCM10',\"OPPO R15x\",inplace=True)"
   ]
  },
  {
   "cell_type": "code",
   "execution_count": 10,
   "metadata": {},
   "outputs": [
    {
     "data": {
      "text/plain": [
       "OPPO A5             100382\n",
       "OPPO R17             70532\n",
       "OPPO R15             66686\n",
       "OPPO A57             66542\n",
       "OPPO R9S             51732\n",
       "                     ...  \n",
       "BIHEE-A7+                1\n",
       "EBEST I8                 1\n",
       "BEST_SONNY_LT529         1\n",
       "RK3288                   1\n",
       "ECELL                    1\n",
       "Name: model, Length: 10823, dtype: int64"
      ]
     },
     "execution_count": 10,
     "metadata": {},
     "output_type": "execute_result"
    }
   ],
   "source": [
    "data.model.value_counts()"
   ]
  },
  {
   "cell_type": "code",
   "execution_count": 11,
   "metadata": {},
   "outputs": [
    {
     "data": {
      "text/plain": [
       "'d7460126-e071-4979-9ee8-42f72777a28a-1560090701088'"
      ]
     },
     "execution_count": 11,
     "metadata": {},
     "output_type": "execute_result"
    }
   ],
   "source": [
    "# 样本id/请求会话sid\n",
    "data[\"sid\"][0]"
   ]
  },
  {
   "cell_type": "code",
   "execution_count": 12,
   "metadata": {},
   "outputs": [
    {
     "data": {
      "text/plain": [
       "184165"
      ]
     },
     "execution_count": 12,
     "metadata": {},
     "output_type": "execute_result"
    }
   ],
   "source": [
    "data.make.isnull().sum()"
   ]
  },
  {
   "cell_type": "code",
   "execution_count": 13,
   "metadata": {},
   "outputs": [
    {
     "data": {
      "text/plain": [
       "0"
      ]
     },
     "execution_count": 13,
     "metadata": {},
     "output_type": "execute_result"
    }
   ],
   "source": [
    "data.os.isnull().sum()"
   ]
  },
  {
   "cell_type": "code",
   "execution_count": 14,
   "metadata": {},
   "outputs": [],
   "source": [
    "## nginxtime   bigint  请求到达服务时间 单位ms\n",
    "# 通过时间戳转化为天和小时的特征\n",
    "# 时间特征\n",
    "data[\"time\"] = pd.to_datetime(data[\"nginxtime\"] / 1000, unit=\"s\") + timedelta(hours=8)\n",
    "data[\"day\"] = data[\"time\"].dt.day\n",
    "data[\"hour\"] = data[\"time\"].dt.hour\n",
    "\n",
    "# sid中请求时间\n",
    "data[\"sid_timestamp\"] = data[\"sid\"].apply(lambda x: str(x).split(\"-\")[-1]).astype(str)\n",
    "\n",
    "# 请求时间和到达时间相差\n",
    "# 判断请求时间和到达时间是否相等\n",
    "data[\"nginxtime_diff_sid_time\"] = data[\"nginxtime\"].astype(\"float\") - data[\"sid_timestamp\"].astype(\"float\")\n",
    "data[\"nginxtime_sid_timestamp\"] = (data[\"nginxtime\"] == data[\"sid_timestamp\"].astype(str)).astype(int)\n",
    "\n",
    "# 操作系统os大写处理\n",
    "data[\"os\"] = data[data.os.notnull()][\"os\"].apply(lambda x: str(x).upper())\n",
    "data[\"os\"] = data[\"os\"].map(lambda x: str(x).upper()) # 映射"
   ]
  },
  {
   "cell_type": "code",
   "execution_count": 15,
   "metadata": {},
   "outputs": [
    {
     "data": {
      "text/plain": [
       "'180.76.181.7'"
      ]
     },
     "execution_count": 15,
     "metadata": {},
     "output_type": "execute_result"
    }
   ],
   "source": [
    "data.reqrealip[0]"
   ]
  },
  {
   "cell_type": "code",
   "execution_count": 16,
   "metadata": {},
   "outputs": [
    {
     "name": "stderr",
     "output_type": "stream",
     "text": [
      "100%|████████████████████████████████████████████████████████████████████████████████████| 2/2 [00:04<00:00,  2.03s/it]\n"
     ]
    }
   ],
   "source": [
    "# 原始开源baseline特征\n",
    "data[\"big_model\"] = data[\"model\"].astype(str).map(lambda x: x.split(\" \")[0]) # 厂商名称\n",
    "data[\"model_equal_make\"] = (data[\"big_model\"] == data[\"make\"]).astype(int)\n",
    "\n",
    "# 厂商和机型进行交叉\n",
    "data[\"machine\"] = data[\"make\"].astype(str) + \"-\" + data[\"model\"].astype(str)\n",
    "\n",
    "#开源特征https://blog.csdn.net/qq_41776781/article/details/97387261\n",
    "import re\n",
    "\n",
    "# 将0替代为nan值\n",
    "data[\"h\"].replace(0.0, np.nan, inplace=True)\n",
    "data[\"w\"].replace(0.0, np.nan, inplace=True)\n",
    "\n",
    "cols = [\"h\", \"w\"]\n",
    "gp_col = \"make\"\n",
    "for col in tqdm(cols):\n",
    "    na_series = data[col].isna()\n",
    "    names = list(data.loc[na_series, gp_col])\n",
    "#     print(names[:3])\n",
    "    # 使用均值 或者众数进行填充缺失值\n",
    "#     df_fill = data.groupby(gp_col)[col].mean().to_dict()\n",
    "#     data[gp_col] = data[gp_col].map(df_fill)\n",
    "    df_fill = data.groupby(gp_col)[col].agg(lambda x: stats.mode(x)[0][0])  # stats.mode -》https://blog.csdn.net/kane7csdn/article/details/84795405\n",
    "#     print(type(df_fill))\n",
    "#     print(df_fill.head())\n",
    "    t = data.loc[na_series, col].map(df_fill)\n",
    "#     t = df_fill.loc[names,col]\n",
    "    t.index = data.loc[na_series, col].index\n",
    "    # 相同的index进行赋值\n",
    "    data.loc[na_series, col] = t\n",
    "\n",
    "# 开源iphttps://blog.csdn.net/qq_41776781/article/details/97387261\n",
    "data['ip0'] = data['ip'].apply(lambda x:'.'.join(str(x).split('.')[:1]))\n",
    "data['ip1'] = data['ip'].apply(lambda x:'.'.join(str(x).split('.')[0:2]))\n",
    "data['ip2'] = data['ip'].apply(lambda x:'.'.join(str(x).split('.')[0:3]))\n",
    "\n",
    "# reqrealip 请求的http协议头携带IP，有可能是下游服务器的ip\n",
    "data['reqrealip0'] = data['reqrealip'].apply(lambda x:'.'.join(str(x).split('.')[:1]))\n",
    "data['reqrealip1'] = data['reqrealip'].apply(lambda x:'.'.join(str(x).split('.')[0:2]))\n",
    "data['reqrealip2'] = data['reqrealip'].apply(lambda x:'.'.join(str(x).split('.')[0:3]))\n",
    "\n",
    "# 判断二者是否相等\n",
    "data[\"ip_reqrealip\"] = (data[\"ip\"] == data[\"reqrealip\"]).astype(int)\n",
    "# 判断md5是否相等\n",
    "data['adidmd5_openudidmd5_d'] = (data['adidmd5']==data['openudidmd5']).astype(int)\n",
    "\n",
    "#下面暴力好像掉分\n",
    "# data['ip_equal_1'] = (data['ip1'] == data['reqrealip1']).astype(int)\n",
    "# data['ip_equal_2'] = (data['ip2'] == data['reqrealip2']).astype(int)\n",
    "\n",
    "# osv操作系统版本\n",
    "data['osv0'] = data['osv'].astype(str).map(lambda x:'.'.join(x.split('.')[:1]))\n",
    "data['osv1'] = data['osv'].astype(str).map(lambda x:'.'.join(x.split('.')[0:2]))\n",
    "data['osv2'] = data['osv'].astype(str).map(lambda x:'.'.join(x.split('.')[0:3]))\n",
    "\n",
    "## 判断ip和reqrealip 是否相等判断欺诈"
   ]
  },
  {
   "cell_type": "markdown",
   "metadata": {},
   "source": [
    "### 交叉特征"
   ]
  },
  {
   "cell_type": "code",
   "execution_count": 17,
   "metadata": {},
   "outputs": [],
   "source": [
    "# 既然特征在catboost上面表现优越，在原来类别特征之间找新的交叉特征\n",
    "### ip 暴力与设备进行暴力交叉\n",
    "## 找城市，省份欺诈设备族群,ip 和 抬头ip过于稀疏，所以只拿province 和city 和设备\n",
    "### ['lan','make','model','osv','dvctype','imeimd5','os']暂时就这些，其他的nunique 过于少\n",
    "# 剔除重要性差特征\n",
    "province_city = ['province','city']\n",
    "pc_cos = ['make','model','osv','dvctype','imeimd5','lan','macmd5']#os,\n",
    "for i in province_city:\n",
    "    for j in pc_cos:\n",
    "        data['twoPC_'+str(i)+'_'+str(j)] = data[i].astype(str)+'_'+data[j].astype(str)\n",
    "        \n",
    "        \n",
    "#媒体暴力交互\n",
    "##媒体信息和设备交互欺诈族群寻找\n",
    "###媒体信息有 ['pkgname','ver','adunitshowid','mediashowid'，'apptype']\n",
    "###设备信息有['adidmd5','imeimd5','idfamd5','openudidmd5','macmd5','model','make','carrier','osv','lan']剔除了仅仅只有os\n",
    "### 将媒体信息与全部设备信息进行暴力交叉\n",
    "Media_Information = ['pkgname','ver','adunitshowid','mediashowid','apptype']#按顺序开始取字段\n",
    "Device_Information = ['adidmd5','imeimd5','openudidmd5','macmd5','model','make','carrier','osv','lan']#,'idfamd5'\n",
    "for ii in Media_Information:\n",
    "    for jj in Device_Information:\n",
    "        data['twoMD_'+str(ii)+'_'+str(jj)] = data[ii].astype(str)+'_'+data[jj].astype(str)\n",
    "        \n",
    "\n",
    "#ip 和默认下载匹配app交互暴力交互ip\n",
    "Ip_Information=['ip','reqrealip']\n",
    "Id_Information=['adunitshowid']#'mediashowid','mediashowid',好像过拟合\n",
    "for ii in Ip_Information:\n",
    "    for jj in Id_Information:\n",
    "        data['twoMD_'+str(ii)+'_'+str(jj)] = data[ii].astype(str)+'_'+data[jj].astype(str)\n",
    "\n",
    "## 强特'imeimd5'暴力交叉\n",
    "## 设备信息自身类别交互。先选出设备唯一id，一般设备id为International Mobile Equipment Identity IMEI识别码。\n",
    "Za_Information = ['model','osv','ver','dvctype','carrier']#按顺序开始取字段\n",
    "Imd_Information = ['imeimd5']#,'idfamd5',其他ID好像过拟合了\n",
    "for ii in Za_Information:\n",
    "    for jj in Imd_Information:\n",
    "        data['twoMD_'+str(ii)+'_'+str(jj)] = data[ii].astype(str)+'_'+data[jj].astype(str)\n",
    "\n",
    "##设备信息自身类别交互。通过操作系统和本身设备交互\n",
    "### 看看ime5和其他设备和部分设备是如何交互\n",
    "Device_Information3=['model','make','ntt']\n",
    "for iiii in Device_Information3:\n",
    "    data['twoMD_'+str('osv')+'_'+str(iiii)] = data['osv'].astype(str)+'_'+data[iiii].astype(str)"
   ]
  },
  {
   "cell_type": "code",
   "execution_count": null,
   "metadata": {},
   "outputs": [],
   "source": [
    "data['size'] = (np.sqrt(data['h'] ** 2 + data['w'] ** 2) / 2.54) / 1000\n",
    "data['ratio'] = data['h'] / data['w']\n",
    "data['px'] = data['ppi'] * data['size']\n",
    "data['mj'] = data['h'] * data['w']\n",
    "\n",
    "###查看该用户id用过多少个机型和设备等等(人与人的交互)开源特征：\n",
    "sid_cro = ['ver','apptype','ntt','h','w','ppi','ratio','city','dvctype']\n",
    "for x in sid_cro:\n",
    "    data['sid'+'_'+'use'+'_'+str(x)+'_count'] = data.groupby([x])['sid'].transform('count')"
   ]
  },
  {
   "cell_type": "code",
   "execution_count": 23,
   "metadata": {},
   "outputs": [],
   "source": [
    "cat_col = [i for i in data.select_dtypes(object).columns if i not in ['sid','label']]\n",
    "for i in tqdm_notebook(cat_col):\n",
    "    lbl = LabelEncoder()\n",
    "    data['count_' + i] = data.groupby([i])[i].transform('count')\n",
    "    data[i] = lbl.fit_transform(data[i].astype(str))"
   ]
  },
  {
   "cell_type": "code",
   "execution_count": 21,
   "metadata": {},
   "outputs": [
    {
     "ename": "NameError",
     "evalue": "name 'cat_col' is not defined",
     "output_type": "error",
     "traceback": [
      "\u001b[1;31m---------------------------------------------------------------------------\u001b[0m",
      "\u001b[1;31mNameError\u001b[0m                                 Traceback (most recent call last)",
      "\u001b[1;32m<ipython-input-21-e253765024ac>\u001b[0m in \u001b[0;36m<module>\u001b[1;34m\u001b[0m\n\u001b[0;32m      1\u001b[0m \u001b[0mfeature_name\u001b[0m \u001b[1;33m=\u001b[0m \u001b[1;33m[\u001b[0m\u001b[0mi\u001b[0m \u001b[1;32mfor\u001b[0m \u001b[0mi\u001b[0m \u001b[1;32min\u001b[0m \u001b[0mdata\u001b[0m\u001b[1;33m.\u001b[0m\u001b[0mcolumns\u001b[0m \u001b[1;32mif\u001b[0m \u001b[0mi\u001b[0m \u001b[1;32mnot\u001b[0m \u001b[1;32min\u001b[0m \u001b[1;33m[\u001b[0m\u001b[1;34m'sid'\u001b[0m\u001b[1;33m,\u001b[0m \u001b[1;34m'label'\u001b[0m\u001b[1;33m,\u001b[0m \u001b[1;34m'time'\u001b[0m\u001b[1;33m,\u001b[0m \u001b[1;34m'day'\u001b[0m\u001b[1;33m]\u001b[0m\u001b[1;33m]\u001b[0m\u001b[1;33m\u001b[0m\u001b[1;33m\u001b[0m\u001b[0m\n\u001b[1;32m----> 2\u001b[1;33m \u001b[0mcat_list\u001b[0m \u001b[1;33m=\u001b[0m \u001b[1;33m[\u001b[0m\u001b[0mi\u001b[0m \u001b[1;32mfor\u001b[0m \u001b[0mi\u001b[0m \u001b[1;32min\u001b[0m \u001b[0mcat_col\u001b[0m \u001b[1;32mif\u001b[0m \u001b[0mi\u001b[0m \u001b[1;32mnot\u001b[0m \u001b[1;32min\u001b[0m \u001b[1;33m[\u001b[0m\u001b[1;34m'nginxtime'\u001b[0m\u001b[1;33m]\u001b[0m\u001b[1;33m]\u001b[0m\u001b[1;33m\u001b[0m\u001b[1;33m\u001b[0m\u001b[0m\n\u001b[0m\u001b[0;32m      3\u001b[0m \u001b[1;33m\u001b[0m\u001b[0m\n\u001b[0;32m      4\u001b[0m \u001b[0mfeature_importances\u001b[0m \u001b[1;33m=\u001b[0m \u001b[0mpd\u001b[0m\u001b[1;33m.\u001b[0m\u001b[0mDataFrame\u001b[0m\u001b[1;33m(\u001b[0m\u001b[1;33m)\u001b[0m\u001b[1;33m\u001b[0m\u001b[1;33m\u001b[0m\u001b[0m\n\u001b[0;32m      5\u001b[0m \u001b[0mfeature_importances\u001b[0m\u001b[1;33m[\u001b[0m\u001b[1;34m'feature'\u001b[0m\u001b[1;33m]\u001b[0m \u001b[1;33m=\u001b[0m \u001b[0mfeature_name\u001b[0m\u001b[1;33m\u001b[0m\u001b[1;33m\u001b[0m\u001b[0m\n",
      "\u001b[1;31mNameError\u001b[0m: name 'cat_col' is not defined"
     ]
    }
   ],
   "source": [
    "feature_name = [i for i in data.columns if i not in ['sid', 'label', 'time', 'day']]\n",
    "cat_list = [i for i in cat_col if i not in ['nginxtime']]\n",
    "\n",
    "feature_importances = pd.DataFrame()\n",
    "feature_importances['feature'] = feature_name\n",
    "all_zero_feature=[]\n",
    "X_train = data[data['label']!=-999]\n",
    "y = data[data['label']!=-999]['label']\n",
    "X_test = data[data['label']==-999]\n",
    "print(X_train.shape,X_test.shape)\n",
    "oof = np.zeros(X_train.shape[0])\n",
    "prediction = np.zeros(X_test.shape[0])\n",
    "seeds = [2018, 2019,4096, 2048, 1024]\n",
    "num_model_seed = 1\n",
    "for model_seed in range(num_model_seed):\n",
    "    oof_cat = np.zeros(X_train.shape[0])\n",
    "    prediction_cat=np.zeros(X_test.shape[0])\n",
    "    skf = StratifiedKFold(n_splits=7, random_state=seeds[model_seed], shuffle=True)\n",
    "    for index, (train_index, test_index) in enumerate(skf.split(X_train, y)):\n",
    "        print(index)\n",
    "        train_x, test_x, train_y, test_y = X_train[feature_name].iloc[train_index], X_train[feature_name].iloc[test_index], y.iloc[train_index], y.iloc[test_index]\n",
    "        print(train_x.shape)\n",
    "        print(train_y.shape)\n",
    "        print(test_x.shape)\n",
    "        print(test_y.shape)\n",
    "        cbt_model = cbt.CatBoostClassifier(iterations=5000,learning_rate=0.1,max_depth=7,\n",
    "                                           l2_leaf_reg=1,verbose=100,early_stopping_rounds=500,task_type='GPU',eval_metric='F1',cat_features=cat_list)\n",
    "        cbt_model.fit(train_x[feature_name], train_y,eval_set=(test_x[feature_name],test_y))            \n",
    "        oof_cat[test_index] += cbt_model.predict_proba(test_x)[:,1]\n",
    "        prediction_cat += cbt_model.predict_proba(X_test[feature_name])[:,1]/7       \n",
    "        featureimportance=cbt_model.get_feature_importance(prettified=True)   \n",
    "        importance_0=list(featureimportance[featureimportance['Importances']==0]['Feature Index'])\n",
    "        all_zero_feature.extend(importance_0)\n",
    "        feature_importances['fold-{}'.format(index+1)] = cbt_model.get_feature_importance()\n",
    "        featureimportance.to_csv(path+'feats{}.csv'.format(index),index=False)        \n",
    "    print('F1',f1_score(y, np.round(oof_cat)))    \n",
    "    oof += oof_cat / num_model_seed\n",
    "    prediction += prediction_cat / num_model_seed\n",
    "print('score',f1_score(y, np.round(oof))) \n",
    "# write to csv\n",
    "submit = test[['sid']]\n",
    "submit['label'] =prediction\n",
    "submit.to_csv(path+\"tmp/bs_gl1.csv\",index=False)\n",
    "submit['label'] = (prediction>=0.5).astype(int)\n",
    "print(submit['label'].value_counts())\n",
    "submit.to_csv(path+\"tmp/dt1.csv\",index=False)"
   ]
  },
  {
   "cell_type": "code",
   "execution_count": null,
   "metadata": {},
   "outputs": [],
   "source": []
  }
 ],
 "metadata": {
  "kernelspec": {
   "display_name": "Python [conda env:Anaconda3]",
   "language": "python",
   "name": "conda-env-Anaconda3-py"
  },
  "language_info": {
   "codemirror_mode": {
    "name": "ipython",
    "version": 3
   },
   "file_extension": ".py",
   "mimetype": "text/x-python",
   "name": "python",
   "nbconvert_exporter": "python",
   "pygments_lexer": "ipython3",
   "version": "3.7.6"
  },
  "toc": {
   "base_numbering": 1,
   "nav_menu": {},
   "number_sections": true,
   "sideBar": true,
   "skip_h1_title": false,
   "title_cell": "Table of Contents",
   "title_sidebar": "Contents",
   "toc_cell": false,
   "toc_position": {},
   "toc_section_display": true,
   "toc_window_display": false
  }
 },
 "nbformat": 4,
 "nbformat_minor": 4
}
